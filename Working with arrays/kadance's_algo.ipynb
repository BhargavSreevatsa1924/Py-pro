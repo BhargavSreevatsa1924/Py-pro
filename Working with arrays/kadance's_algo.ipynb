{
 "cells": [
  {
   "cell_type": "markdown",
   "id": "dbea6ebf",
   "metadata": {},
   "source": [
    " Kadane’s Algorithm can be viewed both as greedy and DP. As we can see that we are keeping a running sum of integers and when it becomes less than 0, we   reset it to 0 (Greedy Part). This is because continuing with a negative sum is way worse than restarting with a new range. Now it can also be viewed as a DP,   at each stage we have 2 choices: Either take the current element and continue with the previous sum OR restart a new range"
   ]
  },
  {
   "cell_type": "markdown",
   "id": "9591c7ac",
   "metadata": {},
   "source": [
    "* Initialize a variable max_so_far and store maximum of the given array\n",
    "* Iterate using a for between 0 to length of array -1 by i\n",
    "* Initialize a variable s to store ith element of the array\n",
    "* Run a nested for loop using variable j from i+1 to length of array\n",
    "* Increment the value of s by arr[j]\n",
    "* Check if s is greater than max_so_far if true store s to max_so_far\n",
    "* After loop ends max_so_far stores the answer"
   ]
  },
  {
   "cell_type": "code",
   "execution_count": 1,
   "id": "899dc780",
   "metadata": {},
   "outputs": [
    {
     "name": "stdout",
     "output_type": "stream",
     "text": [
      "Largest contiguous subarray sum is : 7\n"
     ]
    }
   ],
   "source": [
    "def fun(arr, l):\n",
    "    max_so_far = max(arr)\n",
    "    for i in range(l - 1):\n",
    "        s = arr[i]\n",
    "        for j in range(i + 1, l):\n",
    "            s += arr[j]\n",
    "            if s > max_so_far:\n",
    "                max_so_far = s\n",
    "    return max_so_far\n",
    "\n",
    "\n",
    "array = [-2, -3, 4, -1, -2, 1, 5, -3]\n",
    "\n",
    "print(\"Largest contiguous subarray sum is :\", fun(array, len(array)))"
   ]
  }
 ],
 "metadata": {
  "kernelspec": {
   "display_name": "Python 3",
   "language": "python",
   "name": "python3"
  },
  "language_info": {
   "codemirror_mode": {
    "name": "ipython",
    "version": 3
   },
   "file_extension": ".py",
   "mimetype": "text/x-python",
   "name": "python",
   "nbconvert_exporter": "python",
   "pygments_lexer": "ipython3",
   "version": "3.13.0"
  }
 },
 "nbformat": 4,
 "nbformat_minor": 5
}
