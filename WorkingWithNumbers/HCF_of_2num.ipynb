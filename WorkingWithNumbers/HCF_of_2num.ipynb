{
 "cells": [
  {
   "cell_type": "code",
   "execution_count": 1,
   "id": "23f39750",
   "metadata": {},
   "outputs": [
    {
     "name": "stdout",
     "output_type": "stream",
     "text": [
      "Hcf of 36 and 60 is 12\n"
     ]
    }
   ],
   "source": [
    "# Method 1 : Linear Quest \n",
    "num1 = 36\n",
    "num2 = 60\n",
    "hcf = 1\n",
    "\n",
    "for i in range(1, min(num1, num2)):\n",
    "    if num1 % i == 0 and num2 % i == 0:\n",
    "        hcf = i\n",
    "print(\"Hcf of\", num1, \"and\", num2, \"is\", hcf)"
   ]
  },
  {
   "cell_type": "code",
   "execution_count": 2,
   "id": "d127d718",
   "metadata": {},
   "outputs": [
    {
     "name": "stdout",
     "output_type": "stream",
     "text": [
      "Hcf of 36 and 60 is 12\n"
     ]
    }
   ],
   "source": [
    "# Method 2\n",
    "# Repeated Subtrcation\n",
    "\n",
    "num1 = 36\n",
    "num2 = 60\n",
    "a = num1\n",
    "b = num2\n",
    "\n",
    "while num1 != num2:\n",
    "    if num1 > num2:\n",
    "        num1 -= num2\n",
    "    else:\n",
    "        num2 -= num1\n",
    "\n",
    "print(\"Hcf of\", a, \"and\", b, \"is\", num1)"
   ]
  },
  {
   "cell_type": "code",
   "execution_count": 3,
   "id": "0b2250ac",
   "metadata": {},
   "outputs": [
    {
     "name": "stdout",
     "output_type": "stream",
     "text": [
      "Hcf of 36 and 60 is 12\n"
     ]
    }
   ],
   "source": [
    "# Method 3\n",
    "# Repeated Subtraction using Recursion\n",
    "\n",
    "# Recursive function to return HCF of two number\n",
    "def findHCF(num1, num2):\n",
    "    \n",
    "    # Everything divides 0\n",
    "    if num1 == 0 or num2 == 0:\n",
    "        return num1 + num2\n",
    "    \n",
    "    # base case\n",
    "    if num1 == num2:\n",
    "        return num1\n",
    "    \n",
    "    # num1>num2\n",
    "    if num1 > num2:\n",
    "        return findHCF(num1 - num2, num2)\n",
    "    else:\n",
    "        return findHCF(num1, num2 - num1)\n",
    "\n",
    "\n",
    "num1 = 36\n",
    "num2 = 60\n",
    "\n",
    "print(\"Hcf of\", num1, \"and\", num2, \"is\", findHCF(num1, num2))"
   ]
  },
  {
   "cell_type": "code",
   "execution_count": 4,
   "id": "f5d11c1b",
   "metadata": {},
   "outputs": [
    {
     "name": "stdout",
     "output_type": "stream",
     "text": [
      "Hcf of 36 and 60 is 12\n"
     ]
    }
   ],
   "source": [
    "# Method 4 : Repeated Subtraction with Modulo Operator using Recursion\n",
    "\n",
    "# This method improves complexity of repeated subtraction\n",
    "# By efficient use of modulo operator in euclidean algorithm\n",
    "def getHCF(a, b):\n",
    "    return b == 0 and a or getHCF(b, a % b)\n",
    "\n",
    "\n",
    "num1 = 36\n",
    "num2 = 60\n",
    "\n",
    "print(\"Hcf of\", num1, \"and\", num2, \"is\", getHCF(num1, num2))"
   ]
  },
  {
   "cell_type": "code",
   "execution_count": 5,
   "id": "69e32e79",
   "metadata": {},
   "outputs": [
    {
     "name": "stdout",
     "output_type": "stream",
     "text": [
      "Hcf of -36 and 60 is 12\n"
     ]
    }
   ],
   "source": [
    "# Method 5 : Handling Negative Numbers in HCF\n",
    "\n",
    "# This method improves complexity of repeated subtraction\n",
    "# By efficient use of modulo operator in euclidean algorithm\n",
    "def getHCF(a, b):\n",
    "    return b == 0 and a or getHCF(b, a % b)\n",
    "\n",
    "\n",
    "num1 = -36\n",
    "num2 = 60\n",
    "\n",
    "# if user enters negative number, we just changing it to positive\n",
    "# By definition HCF is the highest positive number that divides both numbers\n",
    "# -36 & 60 : HCF = 12 (as highest num that divides both)\n",
    "# -36 & -60 : HCF = 12 (as highest num that divides both)\n",
    "num1 >= 0 and num1 or -num1\n",
    "num2 >= 0 and num2 or -num2\n",
    "\n",
    "print(\"Hcf of\", num1, \"and\", num2, \"is\", getHCF(num1, num2))"
   ]
  }
 ],
 "metadata": {
  "kernelspec": {
   "display_name": "Python 3",
   "language": "python",
   "name": "python3"
  },
  "language_info": {
   "codemirror_mode": {
    "name": "ipython",
    "version": 3
   },
   "file_extension": ".py",
   "mimetype": "text/x-python",
   "name": "python",
   "nbconvert_exporter": "python",
   "pygments_lexer": "ipython3",
   "version": "3.13.0"
  }
 },
 "nbformat": 4,
 "nbformat_minor": 5
}
