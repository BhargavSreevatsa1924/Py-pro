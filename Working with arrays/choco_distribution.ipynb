{
 "cells": [
  {
   "cell_type": "code",
   "execution_count": 1,
   "id": "c42fa29e",
   "metadata": {},
   "outputs": [
    {
     "name": "stdout",
     "output_type": "stream",
     "text": [
      "7\n"
     ]
    }
   ],
   "source": [
    "def minDiff(arr, m, l):\n",
    "    ans = 1000\n",
    "    arr.sort()\n",
    "    for i in range(l - (m - 1)):\n",
    "        if arr[i + m - 1] - arr[i] < ans:\n",
    "            ans = arr[i + m - 1] - arr[i]\n",
    "    return ans\n",
    "\n",
    "\n",
    "arr = [12, 4, 7, 9, 2, 23, 25]\n",
    "m = 4\n",
    "l = len(arr)\n",
    "print(minDiff(arr, m, l))"
   ]
  }
 ],
 "metadata": {
  "kernelspec": {
   "display_name": "Python 3",
   "language": "python",
   "name": "python3"
  },
  "language_info": {
   "codemirror_mode": {
    "name": "ipython",
    "version": 3
   },
   "file_extension": ".py",
   "mimetype": "text/x-python",
   "name": "python",
   "nbconvert_exporter": "python",
   "pygments_lexer": "ipython3",
   "version": "3.13.0"
  }
 },
 "nbformat": 4,
 "nbformat_minor": 5
}
