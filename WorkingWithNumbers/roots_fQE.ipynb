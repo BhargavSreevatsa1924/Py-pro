{
 "cells": [
  {
   "cell_type": "markdown",
   "id": "01f14ac8",
   "metadata": {},
   "source": [
    "Algorithm :\n",
    "* Calculate Discriminant (D)\n",
    "* D = b^2 – 4*a*c\n",
    "* If D>0 : Two real root exists.\n",
    "* If D=0 : Equal root exists.\n",
    "* If D<0 : Imaginary root exists."
   ]
  },
  {
   "cell_type": "code",
   "execution_count": 6,
   "id": "5dd0193f",
   "metadata": {},
   "outputs": [
    {
     "name": "stdout",
     "output_type": "stream",
     "text": [
      "Roots are complex\n",
      "-1.0  + i 2.8284271247461903\n",
      "-1.0  - i 2.8284271247461903\n"
     ]
    }
   ],
   "source": [
    "# Write a program to find roots of a quadratic equation in Python\n",
    "import math\n",
    " \n",
    "def findRoots(a, b, c):\n",
    " \n",
    "    if a == 0:\n",
    "        print(\"Invalid\")\n",
    "        return -1\n",
    "        \n",
    "    d = b * b - 4 * a * c\n",
    "    sqrt_val = math.sqrt(abs(d))\n",
    " \n",
    "    if d > 0:\n",
    "        print(\"Roots are real and different \")\n",
    "        print((-b + sqrt_val)/(2 * a))\n",
    "        print((-b - sqrt_val)/(2 * a))\n",
    "    elif d == 0:\n",
    "        print(\"Roots are real and same\")\n",
    "        print(-b / (2*a))\n",
    "    else:  # d<0\n",
    "        print(\"Roots are complex\")\n",
    "        print(- b / (2*a), \" + i\", sqrt_val)\n",
    "        print(- b / (2*a), \" - i\", sqrt_val)\n",
    "\n",
    "\n",
    "# Driver Program\n",
    "a = 1\n",
    "b = 2\n",
    "c = 3\n",
    " \n",
    "# Function call\n",
    "findRoots(a, b, c)"
   ]
  }
 ],
 "metadata": {
  "kernelspec": {
   "display_name": "Python 3",
   "language": "python",
   "name": "python3"
  },
  "language_info": {
   "codemirror_mode": {
    "name": "ipython",
    "version": 3
   },
   "file_extension": ".py",
   "mimetype": "text/x-python",
   "name": "python",
   "nbconvert_exporter": "python",
   "pygments_lexer": "ipython3",
   "version": "3.13.0"
  }
 },
 "nbformat": 4,
 "nbformat_minor": 5
}
