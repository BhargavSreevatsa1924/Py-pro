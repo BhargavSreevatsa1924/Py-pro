{
 "cells": [
  {
   "cell_type": "code",
   "execution_count": 1,
   "id": "9c28f2b2",
   "metadata": {},
   "outputs": [
    {
     "name": "stdout",
     "output_type": "stream",
     "text": [
      "LCM of 12 and 14 is 84\n"
     ]
    }
   ],
   "source": [
    "# method 1 linear way\n",
    "num1 = 12\n",
    "num2 = 14\n",
    "for i in range(max(num1, num2), 1 + (num1 * num2)):\n",
    "    if i % num1 == i % num2 == 0:\n",
    "        lcm = i\n",
    "        break\n",
    "print(\"LCM of\", num1, \"and\", num2, \"is\", lcm)"
   ]
  },
  {
   "cell_type": "code",
   "execution_count": 6,
   "id": "ef4159b7",
   "metadata": {},
   "outputs": [
    {
     "name": "stdout",
     "output_type": "stream",
     "text": [
      "LCM of 12 and 14 is 84\n"
     ]
    }
   ],
   "source": [
    "# Method 2: Modified interval Linear way\n",
    "num1 = 12\n",
    "num2 = 14\n",
    "for i in range(max(num1, num2), 1 + (num1 * num2), max(num1, num2)):\n",
    "    if i % num1 == i % num2 == 0:\n",
    "        lcm = i\n",
    "        break\n",
    "\n",
    "print(\"LCM of\", num1, \"and\", num2, \"is\", lcm)"
   ]
  },
  {
   "cell_type": "code",
   "execution_count": 5,
   "id": "7d8f49fc",
   "metadata": {},
   "outputs": [
    {
     "name": "stdout",
     "output_type": "stream",
     "text": [
      "LCM of 12 and 14 is 84\n"
     ]
    }
   ],
   "source": [
    "# Method 3: Simple usage of HCF calculation to determine LCM\n",
    "num1 = 12\n",
    "num2 = 14\n",
    "\n",
    "# Calculating HCF here\n",
    "for i in range(1, max(num1, num2)):\n",
    "    if num1 % i == num2 % i == 0:\n",
    "        hcf = i\n",
    "\n",
    "# LCM formula\n",
    "lcm = (num1*num2)//hcf\n",
    "\n",
    "print(\"LCM of\", num1, \"and\", num2, \"is\", lcm)"
   ]
  },
  {
   "cell_type": "code",
   "execution_count": 4,
   "id": "884d5c22",
   "metadata": {},
   "outputs": [
    {
     "name": "stdout",
     "output_type": "stream",
     "text": [
      "LCM of 12 and 14 is 84\n"
     ]
    }
   ],
   "source": [
    "# Method 4: Repeated subtraction to calculate HCF and determine LCM\n",
    "def getHCF(num1, num2):\n",
    "    while num1!=num2:\n",
    "        if num1>num2:\n",
    "            num1-=num2\n",
    "        else:\n",
    "            num2-=num1\n",
    "    return num1\n",
    "\n",
    "\n",
    "num1 = 12\n",
    "num2 = 14\n",
    "\n",
    "# Calculating HCF here\n",
    "hcf = getHCF(num1, num2)\n",
    "\n",
    "# LCM formula\n",
    "lcm = (num1*num2)//hcf\n",
    "\n",
    "print(\"LCM of\", num1, \"and\", num2, \"is\", lcm)"
   ]
  },
  {
   "cell_type": "code",
   "execution_count": 3,
   "id": "580371ad",
   "metadata": {},
   "outputs": [
    {
     "name": "stdout",
     "output_type": "stream",
     "text": [
      "LCM of 12 and 14 is 84\n"
     ]
    }
   ],
   "source": [
    "# Method 5: Recursive repeated subtraction to calculate HCF and determine LCM \n",
    "# Recursive function to return HCF of two number\n",
    "def getHCF(num1, num2):\n",
    "    # Everything divides 0\n",
    "    if num1 == 0 or num2 == 0:\n",
    "        return num1 + num2\n",
    "\n",
    "    # base case\n",
    "    if num1 == num2:\n",
    "        return num1\n",
    "\n",
    "    # num1>num2\n",
    "    if num1 > num2:\n",
    "        return getHCF(num1 - num2, num2)\n",
    "    else:\n",
    "        return getHCF(num1, num2 - num1)\n",
    "\n",
    "\n",
    "num1 = 12\n",
    "num2 = 14\n",
    "\n",
    "# Calculating HCF here\n",
    "hcf = getHCF(num1, num2)\n",
    "\n",
    "# LCM formula\n",
    "lcm = (num1*num2)//hcf\n",
    "print(\"LCM of\", num1, \"and\", num2, \"is\", lcm)"
   ]
  },
  {
   "cell_type": "code",
   "execution_count": 2,
   "id": "bb686afb",
   "metadata": {},
   "outputs": [
    {
     "name": "stdout",
     "output_type": "stream",
     "text": [
      "The hcf is : 84\n"
     ]
    }
   ],
   "source": [
    "# Method 6: Modulo Recursive repeated subtraction to calculate HCF and determine LCM \n",
    "def getHCF(a, b):\n",
    "    if b == 0:\n",
    "        return a\n",
    "    else:\n",
    "        return getHCF(b, a % b)\n",
    "\n",
    "\n",
    "num1 = 12\n",
    "num2 = 14\n",
    "hcf = getHCF(num1, num2)\n",
    "\n",
    "# LCM formula\n",
    "lcm = (num1 * num2) // hcf\n",
    "print(\"The hcf is :\", lcm)"
   ]
  }
 ],
 "metadata": {
  "kernelspec": {
   "display_name": "Python 3",
   "language": "python",
   "name": "python3"
  },
  "language_info": {
   "codemirror_mode": {
    "name": "ipython",
    "version": 3
   },
   "file_extension": ".py",
   "mimetype": "text/x-python",
   "name": "python",
   "nbconvert_exporter": "python",
   "pygments_lexer": "ipython3",
   "version": "3.13.0"
  }
 },
 "nbformat": 4,
 "nbformat_minor": 5
}
