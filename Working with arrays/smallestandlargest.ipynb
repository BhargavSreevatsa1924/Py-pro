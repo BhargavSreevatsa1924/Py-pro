{
 "cells": [
  {
   "cell_type": "markdown",
   "id": "065ce252",
   "metadata": {},
   "source": [
    "Method 1 :\n",
    "* Take a variable say mini to store the minimum element of the array and maxi to store the maximum element.\n",
    "* Set mini = arr[0] and maxi = arr[0]\n",
    "* Run a loop over the array\n",
    "* Check if(arr[i]<mini) then set mini = arr[i]\n",
    "* Also check if(arr[i]>maxi) then set maxi = arr[i]\n",
    "* After complete iteration print mini and maxi."
   ]
  },
  {
   "cell_type": "code",
   "execution_count": 1,
   "id": "ba03e923",
   "metadata": {},
   "outputs": [
    {
     "name": "stdout",
     "output_type": "stream",
     "text": [
      "4\n",
      "89\n"
     ]
    }
   ],
   "source": [
    "arr = [10, 89, 9, 56, 4, 80, 8]\n",
    "mini = arr[0]\n",
    "maxi = arr[0]\n",
    "\n",
    "for i in range(len(arr)):\n",
    "  if arr[i] < mini: \n",
    "    mini = arr[i] \n",
    "  \n",
    "  if arr[i] > maxi: \n",
    "    maxi = arr[i]\n",
    "\n",
    "print (mini)\n",
    "print (maxi)"
   ]
  },
  {
   "cell_type": "markdown",
   "id": "9ed9b70f",
   "metadata": {},
   "source": [
    "Method 2 :\n",
    "* Sort the array using inbuilt sort()function\n",
    "* Minimum element is at index 0 and maximum is at index -1\n",
    "* So, print(arr[0])\n",
    "* And, print(arr[-1])"
   ]
  },
  {
   "cell_type": "code",
   "execution_count": 2,
   "id": "39ceff06",
   "metadata": {},
   "outputs": [
    {
     "name": "stdout",
     "output_type": "stream",
     "text": [
      "4\n",
      "89\n"
     ]
    }
   ],
   "source": [
    "arr = [10, 89, 9, 56, 4, 80, 8]\n",
    "arr.sort()\n",
    "\n",
    "print (arr[0])\n",
    "print (arr[-1])"
   ]
  }
 ],
 "metadata": {
  "kernelspec": {
   "display_name": "Python 3",
   "language": "python",
   "name": "python3"
  },
  "language_info": {
   "codemirror_mode": {
    "name": "ipython",
    "version": 3
   },
   "file_extension": ".py",
   "mimetype": "text/x-python",
   "name": "python",
   "nbconvert_exporter": "python",
   "pygments_lexer": "ipython3",
   "version": "3.13.0"
  }
 },
 "nbformat": 4,
 "nbformat_minor": 5
}
