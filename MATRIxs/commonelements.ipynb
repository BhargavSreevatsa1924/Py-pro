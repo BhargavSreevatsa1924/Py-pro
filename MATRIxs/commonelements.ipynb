{
 "cells": [
  {
   "cell_type": "code",
   "execution_count": 1,
   "id": "8759f867",
   "metadata": {},
   "outputs": [
    {
     "name": "stdout",
     "output_type": "stream",
     "text": [
      "30\n"
     ]
    }
   ],
   "source": [
    "def find(mat, N, M):\n",
    "    for j in range(0, N):\n",
    "        x, count = mat[0][j], 0\n",
    "\n",
    "        for i in range(1, M):\n",
    "            flag = 0\n",
    "            for k in range(0, N):\n",
    "                if x == mat[i][k]:\n",
    "                    flag = 1\n",
    "                    mat[i][k] = -1\n",
    "                    break\n",
    "            if flag == 1:\n",
    "                count += 1\n",
    "        if count == M - 1:\n",
    "            print(x)\n",
    "\n",
    "\n",
    "N, M = 4, 4\n",
    "mat = [[10, 20, 30, 40],\n",
    "       [15, 25, 35, 30],\n",
    "       [27, 30, 37, 48],\n",
    "       [32, 33, 39, 30]]\n",
    "find(mat, N, M)"
   ]
  }
 ],
 "metadata": {
  "kernelspec": {
   "display_name": "Python 3",
   "language": "python",
   "name": "python3"
  },
  "language_info": {
   "codemirror_mode": {
    "name": "ipython",
    "version": 3
   },
   "file_extension": ".py",
   "mimetype": "text/x-python",
   "name": "python",
   "nbconvert_exporter": "python",
   "pygments_lexer": "ipython3",
   "version": "3.13.0"
  }
 },
 "nbformat": 4,
 "nbformat_minor": 5
}
