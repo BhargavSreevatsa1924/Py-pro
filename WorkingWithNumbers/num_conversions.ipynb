{
 "cells": [
  {
   "cell_type": "markdown",
   "id": "496b6302",
   "metadata": {},
   "source": [
    "* binary to decimal conversion"
   ]
  },
  {
   "cell_type": "code",
   "execution_count": 1,
   "id": "db4efcca",
   "metadata": {},
   "outputs": [
    {
     "name": "stdout",
     "output_type": "stream",
     "text": [
      "Binary Number is 10\n",
      "Decimal Number is 2\n"
     ]
    }
   ],
   "source": [
    "num = 10\n",
    "binary_val = num\n",
    "decimal_val = 0\n",
    "base = 1\n",
    "\n",
    "while num > 0:\n",
    "    rem = num % 10\n",
    "    decimal_val = decimal_val + rem * base\n",
    "    num = num // 10\n",
    "    base = base * 2\n",
    "\n",
    "print(\"Binary Number is {}\\nDecimal Number is {}\".format(binary_val, decimal_val))"
   ]
  },
  {
   "cell_type": "markdown",
   "id": "ebe6985b",
   "metadata": {},
   "source": [
    "# Octal to decimal"
   ]
  },
  {
   "cell_type": "code",
   "execution_count": 2,
   "id": "a3368dbd",
   "metadata": {},
   "outputs": [
    {
     "name": "stdout",
     "output_type": "stream",
     "text": [
      "The decimal value of 512  is 330\n"
     ]
    }
   ],
   "source": [
    "# algo way\n",
    "def OctalToDecimal(num):\n",
    "    decimal_value = 0\n",
    "    base = 1\n",
    "\n",
    "    while num:\n",
    "        last_digit = num % 10\n",
    "        num = int(num / 10)\n",
    "        decimal_value += last_digit * base\n",
    "        base = base * 8\n",
    "    return decimal_value\n",
    "\n",
    "\n",
    "octal = 512\n",
    "print(\"The decimal value of\",octal, \" is\",OctalToDecimal(octal))"
   ]
  },
  {
   "cell_type": "code",
   "execution_count": 3,
   "id": "28b9c3e0",
   "metadata": {},
   "outputs": [
    {
     "name": "stdout",
     "output_type": "stream",
     "text": [
      "The decimal value of 512 is 330\n"
     ]
    }
   ],
   "source": [
    "# inbuilt-way\n",
    "octal_num = 512\n",
    "\n",
    "decimal_value = int(str(octal_num), 8)\n",
    "\n",
    "print(\"The decimal value of {} is {}\".format(octal_num, decimal_value))"
   ]
  },
  {
   "cell_type": "markdown",
   "id": "0f5a8d1e",
   "metadata": {},
   "source": [
    "! Hexadecimal to Decimal "
   ]
  },
  {
   "cell_type": "code",
   "execution_count": 4,
   "id": "b962b15c",
   "metadata": {},
   "outputs": [
    {
     "name": "stdout",
     "output_type": "stream",
     "text": [
      "decimal value of C9 is 201\n"
     ]
    }
   ],
   "source": [
    "def convert(hex):\n",
    "    l = len(hex)\n",
    "    decimal = 0\n",
    "    pos = 0\n",
    "    for i in range(l - 1, -1, -1):\n",
    "\n",
    "        # if given index value is a digit (0 - 9)\n",
    "        if '0' <= hex[i] <= '9':\n",
    "\n",
    "            # if hex[i] is in range '0' - '9'\n",
    "            # can convert string value to its integer value\n",
    "            # by passing it to int() function\n",
    "            digit = int(hex[i])\n",
    "            decimal += digit * pow(16, pos)\n",
    "            pos += 1\n",
    "\n",
    "        # if given index is char in range [A, F]\n",
    "        elif 'A' <= hex[i] <= 'F':\n",
    "\n",
    "            # if hex[i] is in range 'A' - 'F'\n",
    "            # can convert sting value to its int value\n",
    "            # by subtracting 55(Refer Ascii table) as\n",
    "            # ASCII val A: 65 and A must result 10 as value\n",
    "            # to get ASCII value in Python can use ord() function\n",
    "            digit = ord(hex[i]) - 55\n",
    "            decimal += digit * pow(16, pos)\n",
    "            pos += 1\n",
    "    return decimal\n",
    "\n",
    "\n",
    "hex = \"C9\"\n",
    "\n",
    "print(\"decimal value of\", hex, \"is\", convert(hex))"
   ]
  },
  {
   "cell_type": "markdown",
   "id": "35ea2db1",
   "metadata": {},
   "source": [
    "! Decimal to binary"
   ]
  },
  {
   "cell_type": "code",
   "execution_count": 5,
   "id": "3d4a6d01",
   "metadata": {},
   "outputs": [
    {
     "name": "stdout",
     "output_type": "stream",
     "text": [
      "10101"
     ]
    }
   ],
   "source": [
    "# using binarybits stored in an array\n",
    "def convertBinary(num):\n",
    "    binaryArray = []\n",
    "    while num>0:\n",
    "        binaryArray.append(num%2)\n",
    "        num = num//2\n",
    "    for j in binaryArray:\n",
    "        print(j, end=\"\")\n",
    "\n",
    "\n",
    "decimal_num = 21\n",
    "convertBinary(decimal_num)"
   ]
  },
  {
   "cell_type": "markdown",
   "id": "a58393aa",
   "metadata": {},
   "source": [
    "! Decimal to Octal"
   ]
  },
  {
   "cell_type": "code",
   "execution_count": 6,
   "id": "798d087c",
   "metadata": {},
   "outputs": [
    {
     "name": "stdout",
     "output_type": "stream",
     "text": [
      "224"
     ]
    }
   ],
   "source": [
    "# method 1\n",
    "decimal = 148\n",
    "octal = []\n",
    "while decimal > 0:\n",
    "    r = decimal % 8\n",
    "    octal.append(r)\n",
    "    decimal = decimal // 8\n",
    "for i in reversed(octal):\n",
    "    print(i, end=\"\")"
   ]
  },
  {
   "cell_type": "code",
   "execution_count": 7,
   "id": "1b3cc7b7",
   "metadata": {},
   "outputs": [
    {
     "name": "stdout",
     "output_type": "stream",
     "text": [
      "41\n"
     ]
    }
   ],
   "source": [
    "# method 2\n",
    "decimal = 33\n",
    "octal = 0\n",
    "count = 1\n",
    "\n",
    "while decimal > 0:\n",
    "    r = decimal % 8\n",
    "    octal += r * count\n",
    "    count *= 10\n",
    "    decimal = decimal // 8\n",
    "\n",
    "print(octal)"
   ]
  },
  {
   "cell_type": "markdown",
   "id": "2457fdfc",
   "metadata": {},
   "source": [
    "! Decimal to Hexadecimal"
   ]
  },
  {
   "cell_type": "code",
   "execution_count": 8,
   "id": "cc6034cc",
   "metadata": {},
   "outputs": [
    {
     "name": "stdout",
     "output_type": "stream",
     "text": [
      "Hexadecimal : 9F1\n"
     ]
    }
   ],
   "source": [
    "def convert(num):\n",
    "    hexa = []\n",
    "\n",
    "    while num != 0:\n",
    "\n",
    "        rem = num % 16\n",
    "\n",
    "        if rem < 10:\n",
    "            hexa.append(chr(rem + 48))\n",
    "        else:\n",
    "            hexa.append(chr(rem + 55))\n",
    "        num = num // 16\n",
    "\n",
    "    hexa.reverse()\n",
    "    return ''.join(hexa)\n",
    "\n",
    "\n",
    "decimal = 2545\n",
    "print(\"Hexadecimal :\", convert(decimal))"
   ]
  },
  {
   "cell_type": "markdown",
   "id": "06254244",
   "metadata": {},
   "source": [
    "! Binary to Octal"
   ]
  },
  {
   "cell_type": "code",
   "execution_count": null,
   "id": "20bacf4a",
   "metadata": {},
   "outputs": [
    {
     "name": "stdout",
     "output_type": "stream",
     "text": [
      "12"
     ]
    }
   ],
   "source": [
    "# function to convert binary to octal METHOD1\n",
    "def convert(num):\n",
    "    octalDigit = 0\n",
    "    count = 1\n",
    "    i = 0\n",
    "    pos = 0\n",
    "    octalArray = [0] * 32\n",
    "\n",
    "    while num != 0:\n",
    "        digit = num % 10\n",
    "        octalDigit += digit * pow(2, i)\n",
    "        i += 1\n",
    "        num //= 10\n",
    "\n",
    "        # placing current octal-sum for 3 pair in array index position\n",
    "        octalArray[pos] = octalDigit\n",
    "\n",
    "        # whenever we have read next 3 digits\n",
    "        # setting values to default\n",
    "        # increasing pos so next values can be placed at next array index\n",
    "        if count % 3 == 0:\n",
    "            octalDigit = 0\n",
    "            i = 0\n",
    "            pos += 1\n",
    "\n",
    "        count += 1\n",
    "\n",
    "    # printing octal array in reverse order\n",
    "    for j in range(pos, -1, -1):\n",
    "        print(octalArray[j], end='')\n",
    "\n",
    "\n",
    "binary = 1010\n",
    "convert(binary)"
   ]
  },
  {
   "cell_type": "code",
   "execution_count": 10,
   "id": "47f5a6ef",
   "metadata": {},
   "outputs": [
    {
     "name": "stdout",
     "output_type": "stream",
     "text": [
      "257"
     ]
    }
   ],
   "source": [
    "# function to convert binary to octal method2\n",
    "def convert(num):\n",
    "    octalDigit = 0\n",
    "    count = 1\n",
    "    i = 0\n",
    "    pos = 0\n",
    "    octalArray = [0] * 32\n",
    "\n",
    "    while num != 0:\n",
    "        digit = num % 10\n",
    "        octalDigit += digit * pow(2, i)\n",
    "        i += 1\n",
    "        num //= 10\n",
    "\n",
    "        # placing current octal-sum for 3 pair in array index position\n",
    "        octalArray[pos] = octalDigit\n",
    "\n",
    "        # whenever we have read next 3 digits\n",
    "        # setting values to default\n",
    "        # increasing pos so next values can be placed at next array index\n",
    "        if count % 3 == 0:\n",
    "            octalDigit = 0\n",
    "            i = 0\n",
    "            pos += 1\n",
    "\n",
    "        count += 1\n",
    "\n",
    "    # printing octal array in reverse order\n",
    "    for j in range(pos, -1, -1):\n",
    "        print(octalArray[j], end='')\n",
    "\n",
    "\n",
    "binary = 10101111\n",
    "convert(binary)"
   ]
  },
  {
   "cell_type": "markdown",
   "id": "c9ce95bb",
   "metadata": {},
   "source": [
    "! Octal to Binary"
   ]
  },
  {
   "cell_type": "code",
   "execution_count": 12,
   "id": "a7b6af71",
   "metadata": {},
   "outputs": [
    {
     "name": "stdout",
     "output_type": "stream",
     "text": [
      "Decimal Value : 10\n",
      "Binary Value : 1010\n"
     ]
    }
   ],
   "source": [
    "def convert(octal):#method 1\n",
    "    i = 0\n",
    "    decimal = 0\n",
    "    while octal != 0:\n",
    "        digit = octal % 10\n",
    "        decimal += digit * pow(8, i)\n",
    "        octal //= 10\n",
    "        i += 1\n",
    "    print(\"Decimal Value :\", decimal)\n",
    "    binary = 0\n",
    "    rem = 0\n",
    "    i = 1\n",
    "\n",
    "    while decimal != 0:\n",
    "        rem = decimal % 2\n",
    "        decimal //= 2\n",
    "        binary += rem * i\n",
    "        i *= 10\n",
    "    print(\"Binary Value :\", binary)\n",
    "\n",
    "\n",
    "octal = int(input(\"Octal Value : \"))\n",
    "convert(octal)"
   ]
  },
  {
   "cell_type": "code",
   "execution_count": 13,
   "id": "c6726973",
   "metadata": {},
   "outputs": [
    {
     "name": "stdout",
     "output_type": "stream",
     "text": [
      "Equivalent Binary Number: 011100111"
     ]
    }
   ],
   "source": [
    "def convert(octal): #method 2\n",
    "    print(\"Equivalent Binary Number: \", end=\"\")\n",
    "    for i in range(len(octal)):\n",
    "        switcher = {\n",
    "            0: \"000\",\n",
    "            1: \"001\",\n",
    "            2: \"010\",\n",
    "            3: \"011\",\n",
    "            4: \"100\",\n",
    "            5: \"101\",\n",
    "            6: \"110\",\n",
    "            7: \"111\"\n",
    "        }\n",
    "        print(switcher.get(int(octal[i]), \"Invalid Octal Number\"), end=\"\")\n",
    "\n",
    "\n",
    "octal = list(input(\"Insert an octal number: \"))\n",
    "convert(octal)"
   ]
  }
 ],
 "metadata": {
  "kernelspec": {
   "display_name": "Python 3",
   "language": "python",
   "name": "python3"
  },
  "language_info": {
   "codemirror_mode": {
    "name": "ipython",
    "version": 3
   },
   "file_extension": ".py",
   "mimetype": "text/x-python",
   "name": "python",
   "nbconvert_exporter": "python",
   "pygments_lexer": "ipython3",
   "version": "3.13.0"
  }
 },
 "nbformat": 4,
 "nbformat_minor": 5
}
