{
 "cells": [
  {
   "cell_type": "code",
   "execution_count": 1,
   "id": "656168c2",
   "metadata": {},
   "outputs": [
    {
     "name": "stdout",
     "output_type": "stream",
     "text": [
      "2 and 13 are prime numbers when added gives 15\n"
     ]
    }
   ],
   "source": [
    "# take input\n",
    "Number = int(input('Enter the Number : '))\n",
    "# initialize an array\n",
    "arr = []\n",
    "# find prime numbers\n",
    "for i in range(2, Number):\n",
    "    flag = 0\n",
    "    for j in range(2, i):\n",
    "        if i % j == 0:\n",
    "            flag = 1\n",
    "    # append prime numbers to array\n",
    "    if flag == 0:\n",
    "        arr.append(i)\n",
    "# possible combinations\n",
    "flag = 0\n",
    "for i in range(len(arr)):\n",
    "    for j in range(i + 1, len(arr)):\n",
    "        # if condition is True Print numbers\n",
    "        if arr[i] + arr[j] == Number:\n",
    "            flag = 1\n",
    "            print(str(arr[i]) + \" and \" + str(arr[j]) + ' are prime numbers when added gives ' + str(Number))\n",
    "            break\n",
    "if flag == 0:\n",
    "    print('No Prime numbers can give sum of ' + str(Number))"
   ]
  }
 ],
 "metadata": {
  "kernelspec": {
   "display_name": "Python 3",
   "language": "python",
   "name": "python3"
  },
  "language_info": {
   "codemirror_mode": {
    "name": "ipython",
    "version": 3
   },
   "file_extension": ".py",
   "mimetype": "text/x-python",
   "name": "python",
   "nbconvert_exporter": "python",
   "pygments_lexer": "ipython3",
   "version": "3.13.0"
  }
 },
 "nbformat": 4,
 "nbformat_minor": 5
}
