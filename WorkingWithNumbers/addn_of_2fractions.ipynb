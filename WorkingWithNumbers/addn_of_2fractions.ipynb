{
 "cells": [
  {
   "cell_type": "code",
   "execution_count": 1,
   "id": "19d454f4",
   "metadata": {},
   "outputs": [
    {
     "name": "stdout",
     "output_type": "stream",
     "text": [
      "14 / 10  +  24 / 3  =  47 / 5\n"
     ]
    }
   ],
   "source": [
    "def findGCD(n1, n2):\n",
    "    gcd = 0\n",
    "    for i in range(1, int(min(n1, n2)) + 1):\n",
    "        if n1 % i == 0 and n2 % i == 0:\n",
    "            gcd = i\n",
    "    return gcd\n",
    "\n",
    "\n",
    "# input first fraction\n",
    "num1, den1 = map(int, list(input(\"Enter numerator and denominator of first number : \").split(\" \")))\n",
    "\n",
    "# input first fraction\n",
    "num2, den2 = map(int, list(input(\"Enter numerator and denominator of second number: \").split(\" \")))\n",
    "\n",
    "lcm = (den1 * den2) // findGCD(den1, den2)\n",
    "\n",
    "sum = (num1 * lcm // den1) + (num2 * lcm // den2)\n",
    "\n",
    "num3 = sum // findGCD(sum, lcm)\n",
    "\n",
    "lcm = lcm // findGCD(sum, lcm)\n",
    "\n",
    "print(num1, \"/\", den1, \" + \", num2, \"/\", den2, \" = \", num3, \"/\", lcm)\n"
   ]
  }
 ],
 "metadata": {
  "kernelspec": {
   "display_name": "Python 3",
   "language": "python",
   "name": "python3"
  },
  "language_info": {
   "codemirror_mode": {
    "name": "ipython",
    "version": 3
   },
   "file_extension": ".py",
   "mimetype": "text/x-python",
   "name": "python",
   "nbconvert_exporter": "python",
   "pygments_lexer": "ipython3",
   "version": "3.13.0"
  }
 },
 "nbformat": 4,
 "nbformat_minor": 5
}
