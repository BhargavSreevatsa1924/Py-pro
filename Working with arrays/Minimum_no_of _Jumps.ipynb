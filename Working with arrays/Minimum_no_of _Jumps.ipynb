{
 "cells": [
  {
   "cell_type": "code",
   "execution_count": 1,
   "id": "90653398",
   "metadata": {},
   "outputs": [
    {
     "name": "stdout",
     "output_type": "stream",
     "text": [
      "Minimum no of jumps required to reach end of the array :  3\n"
     ]
    }
   ],
   "source": [
    "def jump(arr):\n",
    "    ans = 0\n",
    "    i = 0\n",
    "    while i < len(arr) - 1:\n",
    "        if i + arr[i] < len(arr):\n",
    "            ans += 1\n",
    "            if arr[i] == 1:\n",
    "                i += arr[i]\n",
    "            else:\n",
    "                i += arr.index(max(arr[i + 1:arr[i] + i + 1])) - i\n",
    "        else:\n",
    "            ans += 1\n",
    "            i += arr[i]\n",
    "\n",
    "    return ans\n",
    "\n",
    "\n",
    "arr = [1, 3, 5, 8, 9, 2, 6, 7, 6, 8, 9]\n",
    "print(\"Minimum no of jumps required to reach end of the array : \", jump(arr))"
   ]
  }
 ],
 "metadata": {
  "kernelspec": {
   "display_name": "Python 3",
   "language": "python",
   "name": "python3"
  },
  "language_info": {
   "codemirror_mode": {
    "name": "ipython",
    "version": 3
   },
   "file_extension": ".py",
   "mimetype": "text/x-python",
   "name": "python",
   "nbconvert_exporter": "python",
   "pygments_lexer": "ipython3",
   "version": "3.13.0"
  }
 },
 "nbformat": 4,
 "nbformat_minor": 5
}
