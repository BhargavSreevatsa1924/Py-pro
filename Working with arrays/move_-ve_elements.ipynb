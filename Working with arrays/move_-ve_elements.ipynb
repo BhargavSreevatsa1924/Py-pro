{
 "cells": [
  {
   "cell_type": "code",
   "execution_count": 1,
   "id": "2adb480d",
   "metadata": {},
   "outputs": [
    {
     "name": "stdout",
     "output_type": "stream",
     "text": [
      "Array after moving all the elements to left: [-6, -5, -3, -1, 1, 3, 3, 4, 7]\n"
     ]
    }
   ],
   "source": [
    "# Move to Left\n",
    "def find(arr):\n",
    "    # sort array\n",
    "    arr.sort()\n",
    "\n",
    "    # print array\n",
    "    print(\"Array after moving all the elements to left:\", arr)\n",
    "\n",
    "\n",
    "array = [1, 3, -1, 4, -3, -5, -6, 3, 7]\n",
    "# call function\n",
    "find(array)"
   ]
  },
  {
   "cell_type": "code",
   "execution_count": 2,
   "id": "cd3f28b5",
   "metadata": {},
   "outputs": [
    {
     "name": "stdout",
     "output_type": "stream",
     "text": [
      "Array after moving all the elements to right: [7, 4, 3, 3, 1, -1, -3, -5, -6]\n"
     ]
    }
   ],
   "source": [
    "# Move to right\n",
    "def find(arr):\n",
    "    # sort array\n",
    "    arr.sort(reverse=True)\n",
    "\n",
    "    # print array\n",
    "    print(\"Array after moving all the elements to right:\", arr)\n",
    "\n",
    "\n",
    "array = [1, 3, -1, 4, -3, -5, -6, 3, 7]\n",
    "# call function\n",
    "find(array)"
   ]
  },
  {
   "cell_type": "code",
   "execution_count": null,
   "id": "e8e56617",
   "metadata": {},
   "outputs": [],
   "source": []
  }
 ],
 "metadata": {
  "kernelspec": {
   "display_name": "Python 3",
   "language": "python",
   "name": "python3"
  },
  "language_info": {
   "codemirror_mode": {
    "name": "ipython",
    "version": 3
   },
   "file_extension": ".py",
   "mimetype": "text/x-python",
   "name": "python",
   "nbconvert_exporter": "python",
   "pygments_lexer": "ipython3",
   "version": "3.13.0"
  }
 },
 "nbformat": 4,
 "nbformat_minor": 5
}
