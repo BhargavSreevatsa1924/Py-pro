{
 "cells": [
  {
   "cell_type": "code",
   "execution_count": 1,
   "id": "17971a7d",
   "metadata": {},
   "outputs": [
    {
     "name": "stdout",
     "output_type": "stream",
     "text": [
      "10   4\n",
      "30   2\n",
      "20   2\n"
     ]
    }
   ],
   "source": [
    "# using HASH MAP\n",
    "def countFreq(arr, n):\n",
    "\n",
    "    mp = dict()\n",
    "\n",
    "    # Traverse through array elements\n",
    "    # and count frequencies\n",
    "\n",
    "    for i in range(n):\n",
    "        if arr[i] in mp.keys():\n",
    "            mp[arr[i]] += 1\n",
    "        else:\n",
    "            mp[arr[i]] = 1\n",
    "\n",
    "           \n",
    "    # Traverse through map and print\n",
    "    # frequencies\n",
    "\n",
    "    for x in mp:\n",
    "        print(x, \" \", mp[x])\n",
    "# Driver Code \n",
    "arr = [10, 30, 10, 20, 10, 20, 30, 10] \n",
    "n = len(arr) \n",
    "countFreq(arr, n)"
   ]
  },
  {
   "cell_type": "code",
   "execution_count": null,
   "id": "7e0a9be0",
   "metadata": {},
   "outputs": [
    {
     "name": "stdout",
     "output_type": "stream",
     "text": [
      "10 4\n",
      "30 2\n",
      "20 2\n"
     ]
    }
   ],
   "source": [
    "# naive way with extra space\n",
    "# Python 3 program to count frequencies\n",
    "# of array items\n",
    "# Time Complexity : O(n2) + Space Complexity : O(n)\n",
    "def countFreq(arr, n):\n",
    "\n",
    "   # Mark all array elements as not visited\n",
    "   visited = [False for i in range(n)]\n",
    "\n",
    "   # Traverse through array elements\n",
    "   # and count frequencies\n",
    "   for i in range(n):\n",
    "\n",
    "     # Skip this element if already\n",
    "     # processed\n",
    "     if (visited[i] == True):\n",
    "        continue\n",
    "\n",
    "     # Count frequency\n",
    "     count = 1\n",
    "     for j in range(i + 1, n, 1):\n",
    "        if (arr[i] == arr[j]):\n",
    "          visited[j] = True\n",
    "          count += 1\n",
    "\n",
    "     print(arr[i], count)\n",
    "     \n",
    "# Driver Code\n",
    "arr = [10, 30, 10, 20, 10, 20, 30, 10]\n",
    "n = len(arr)\n",
    "countFreq(arr, n)"
   ]
  },
  {
   "cell_type": "code",
   "execution_count": 3,
   "id": "9760364b",
   "metadata": {},
   "outputs": [
    {
     "name": "stdout",
     "output_type": "stream",
     "text": [
      "5: 2\n",
      "7: 1\n",
      "8: 2\n",
      "10: 1\n"
     ]
    }
   ],
   "source": [
    "# naive way without extra space\n",
    "# Time Complexity : O(n^2)\n",
    "# Space Complexity : O(1)\n",
    "\n",
    "def countFrequency(arr, size):\n",
    "\n",
    "    for i in range(0, size):\n",
    "        flag = False\n",
    "        count = 0\n",
    "\n",
    "        for j in range(i+1, size):\n",
    "            if arr[i] == arr[j]:\n",
    "                flag = True\n",
    "                break\n",
    "\n",
    "        # The continue keyword is used to end the current iteration \n",
    "        # in a for loop (or a while loop), and continues to the next iteration.\n",
    "        if flag == True:\n",
    "            continue\n",
    "\n",
    "        for j in range(0, i+1):\n",
    "            if arr[i] == arr[j]:\n",
    "                count += 1\n",
    "        print(\"{0}: {1}\".format(arr[i], count))\n",
    "\n",
    "\n",
    "# Driver Code\n",
    "arr = [5, 8, 5, 7, 8, 10]\n",
    "n = len(arr)\n",
    "countFrequency(arr, n)\n"
   ]
  },
  {
   "cell_type": "code",
   "execution_count": 4,
   "id": "5dee80de",
   "metadata": {},
   "outputs": [
    {
     "name": "stdout",
     "output_type": "stream",
     "text": [
      "5: 2\n",
      "7: 1\n",
      "8: 2\n",
      "10: 1\n"
     ]
    }
   ],
   "source": [
    "# first sort and then find freq\n",
    "# Time Complexity : O(n log n) + O(n) = O(n logn)\n",
    "# Space Complexity : O(1)\n",
    "\n",
    "def countDistinct(arr, n):\n",
    "    arr.sort()\n",
    "\n",
    "    # Traverse the sorted array\n",
    "    i = 0\n",
    "    while i < n:\n",
    "        count = 1\n",
    "\n",
    "        # Move the index ahead whenever\n",
    "        # you encounter  duplicates\n",
    "        while i < n - 1 and arr[i] == arr[i + 1]:\n",
    "            i += 1\n",
    "            count +=1\n",
    "\n",
    "        print(\"{0}: {1}\".format(arr[i], count))\n",
    "        i += 1\n",
    "\n",
    "\n",
    "# Driver Code\n",
    "arr = [5, 8, 5, 7, 8, 10]\n",
    "n = len(arr)\n",
    "countDistinct(arr, n)"
   ]
  }
 ],
 "metadata": {
  "kernelspec": {
   "display_name": "Python 3",
   "language": "python",
   "name": "python3"
  },
  "language_info": {
   "codemirror_mode": {
    "name": "ipython",
    "version": 3
   },
   "file_extension": ".py",
   "mimetype": "text/x-python",
   "name": "python",
   "nbconvert_exporter": "python",
   "pygments_lexer": "ipython3",
   "version": "3.13.0"
  }
 },
 "nbformat": 4,
 "nbformat_minor": 5
}
