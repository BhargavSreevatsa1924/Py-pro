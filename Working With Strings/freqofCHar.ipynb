{
 "cells": [
  {
   "cell_type": "code",
   "execution_count": 1,
   "id": "6d154805",
   "metadata": {},
   "outputs": [
    {
     "name": "stdout",
     "output_type": "stream",
     "text": [
      "Y: 1, o: 2, l: 1, o: 2,  : 1, L: 1, i: 1, f: 1, e: 1, "
     ]
    }
   ],
   "source": [
    "# iteration\n",
    "string = \"Yolo Life\"\n",
    "\n",
    "for i in string:\n",
    "    frequency = string.count(i)\n",
    "    print(str(i) + \": \" + str(frequency), end=\", \")"
   ]
  },
  {
   "cell_type": "code",
   "execution_count": 2,
   "id": "d4a53092",
   "metadata": {},
   "outputs": [
    {
     "name": "stdout",
     "output_type": "stream",
     "text": [
      "{'Y': 1, 'O': 2, 'L': 2, ' ': 1, 'I': 1, 'F': 1, 'E': 1}\n"
     ]
    }
   ],
   "source": [
    "# using dictionary\n",
    "str = \"YOLO LIFE\"\n",
    "\n",
    "# create dictionary to store key value pair\n",
    "dict = {}\n",
    "\n",
    "for i in str:\n",
    "    # if i already appears as key in dict, increment the count\n",
    "    if i in dict:\n",
    "        dict[i] += 1\n",
    "\n",
    "    # else i appears for the first time, add to dict\n",
    "    else:\n",
    "        dict[i] = 1\n",
    "\n",
    "# printing result \n",
    "print(dict)"
   ]
  },
  {
   "cell_type": "code",
   "execution_count": 3,
   "id": "828f5716",
   "metadata": {},
   "outputs": [
    {
     "name": "stdout",
     "output_type": "stream",
     "text": [
      "Counter({'o': 2, 'Y': 1, 'l': 1, ' ': 1, 'L': 1, 'i': 1, 'f': 1, 'e': 1})\n"
     ]
    }
   ],
   "source": [
    "# using counter\n",
    "from collections import Counter\n",
    "string = \"Yolo Life\"\n",
    "\n",
    "output = Counter(string)\n",
    "\n",
    "print(output)"
   ]
  },
  {
   "cell_type": "code",
   "execution_count": 4,
   "id": "44bb419d",
   "metadata": {},
   "outputs": [
    {
     "name": "stdout",
     "output_type": "stream",
     "text": [
      "{'b': 3, 'd': 5, 'a': 2, 'e': 6, 'c': 4}\n"
     ]
    }
   ],
   "source": [
    "# using set() and Count()\n",
    "string = \"aabbbccccdddddeeeeee\"\n",
    "\n",
    "# using set() reduces string \"YOLO LIFE\" with 20 items\n",
    "# to a set of 5 items : {'a', 'b', 'c', 'd', 'e'}\n",
    "# now print count each item in set appearing in string\n",
    "# storing result as dictionary\n",
    "# for loop runs only 5 times\n",
    "res = {i: string.count(i) for i in set(string)}\n",
    "\n",
    "print(res)"
   ]
  },
  {
   "cell_type": "code",
   "execution_count": null,
   "id": "56466ff8",
   "metadata": {},
   "outputs": [
    {
     "name": "stdout",
     "output_type": "stream",
     "text": [
      "{'Y': 1, 'O': 2, 'L': 2, ' ': 1, 'I': 1, 'F': 1, 'E': 1}\n"
     ]
    },
    {
     "ename": "",
     "evalue": "",
     "output_type": "error",
     "traceback": [
      "\u001b[1;31mThe Kernel crashed while executing code in the current cell or a previous cell. \n",
      "\u001b[1;31mPlease review the code in the cell(s) to identify a possible cause of the failure. \n",
      "\u001b[1;31mClick <a href='https://aka.ms/vscodeJupyterKernelCrash'>here</a> for more info. \n",
      "\u001b[1;31mView Jupyter <a href='command:jupyter.viewOutput'>log</a> for further details."
     ]
    }
   ],
   "source": [
    "# usinf dict.get()\n",
    "string = \"YOLO LIFE\"\n",
    "\n",
    "res = {}\n",
    "\n",
    "for key in string:\n",
    "    # if item doesn't exist res.get(key, 0) returns 0 as result\n",
    "    # we use res.get(key, 0) + 1 so as to initialize value as 1 on first occurrence\n",
    "    # if item exits then res.get(key, 0) + 1 just increments the previously held value\n",
    "    res[key] = res.get(key, 0) + 1\n",
    "\n",
    "# printing result\n",
    "print (res)"
   ]
  }
 ],
 "metadata": {
  "kernelspec": {
   "display_name": "Python 3",
   "language": "python",
   "name": "python3"
  },
  "language_info": {
   "codemirror_mode": {
    "name": "ipython",
    "version": 3
   },
   "file_extension": ".py",
   "mimetype": "text/x-python",
   "name": "python",
   "nbconvert_exporter": "python",
   "pygments_lexer": "ipython3",
   "version": "3.13.0"
  }
 },
 "nbformat": 4,
 "nbformat_minor": 5
}
