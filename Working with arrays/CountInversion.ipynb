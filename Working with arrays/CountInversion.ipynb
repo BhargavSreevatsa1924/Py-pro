{
 "cells": [
  {
   "cell_type": "code",
   "execution_count": 1,
   "id": "57099ffc",
   "metadata": {},
   "outputs": [
    {
     "name": "stdout",
     "output_type": "stream",
     "text": [
      "There are 5 possible inversion\n"
     ]
    }
   ],
   "source": [
    "def inversion(arr):\n",
    "    ans = 0\n",
    "    for i in range(len(arr)):\n",
    "        for j in range(i + 1, len(arr)):\n",
    "            if arr[j] < arr[i]:\n",
    "                ans += 1\n",
    "    return ans\n",
    "\n",
    "\n",
    "array = [6, 3, 5, 2, 7]\n",
    "print(\"There are\", inversion(array), \"possible inversion\")"
   ]
  }
 ],
 "metadata": {
  "kernelspec": {
   "display_name": "Python 3",
   "language": "python",
   "name": "python3"
  },
  "language_info": {
   "codemirror_mode": {
    "name": "ipython",
    "version": 3
   },
   "file_extension": ".py",
   "mimetype": "text/x-python",
   "name": "python",
   "nbconvert_exporter": "python",
   "pygments_lexer": "ipython3",
   "version": "3.13.0"
  }
 },
 "nbformat": 4,
 "nbformat_minor": 5
}
