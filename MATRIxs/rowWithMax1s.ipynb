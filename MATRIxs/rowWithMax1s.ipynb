{
 "cells": [
  {
   "cell_type": "code",
   "execution_count": null,
   "id": "6eea42fe",
   "metadata": {},
   "outputs": [],
   "source": [
    "# NAive \n",
    "# Time-Complexity : O(r*c)\n",
    "# Space-Complexity : O(1)\n",
    "Matrix = [[0, 0, 0, 1],\n",
    "          [0, 1, 1, 1],\n",
    "          [1, 1, 1, 1],\n",
    "          [0, 0, 0, 0]]\n",
    "\n",
    "max_count, row = 0, -1\n",
    "\n",
    "for i in range(4):\n",
    "\n",
    "    count = 0\n",
    "    for j in range(4):\n",
    "        if Matrix[i][j] == 1:\n",
    "            count += 1\n",
    "\n",
    "    if count > max_count:\n",
    "        max_count = count\n",
    "        row = i\n",
    "\n",
    "print(\"Row with maximum 1's is :\", row+1)"
   ]
  },
  {
   "cell_type": "code",
   "execution_count": 1,
   "id": "edef5f38",
   "metadata": {},
   "outputs": [
    {
     "name": "stdout",
     "output_type": "stream",
     "text": [
      "Row with maximum 1's is : 3\n"
     ]
    }
   ],
   "source": [
    "# using Binary Search \n",
    "# Time-Complexity : O(r*log(c)\n",
    "# Space-Complexity : O(1)\n",
    "def first(arr, low, high):\n",
    "    \n",
    "    if high >= low:\n",
    "        \n",
    "        mid = low + (high - low) // 2\n",
    "        if (mid == 0 or arr[mid - 1] == 0) and arr[mid] == 1:\n",
    "            return mid\n",
    "\n",
    "        elif arr[mid] == 0:\n",
    "            return first(arr, (mid + 1), high)\n",
    "\n",
    "        else:\n",
    "            return first(arr, low, (mid - 1))\n",
    "\n",
    "    return -1\n",
    "\n",
    "\n",
    "Matrix = [[0, 0, 0, 1],\n",
    "          [0, 1, 1, 1],\n",
    "          [1, 1, 1, 1],\n",
    "          [0, 0, 0, 0]]\n",
    "\n",
    "max_count, row = 0, -1\n",
    "\n",
    "for i in range(4):\n",
    "\n",
    "    count = 0\n",
    "    x = first(Matrix[i], 0, 3)\n",
    "    if x != -1:\n",
    "        count = 4 - x\n",
    "    if count > max_count:\n",
    "        max_count = count\n",
    "        row = i\n",
    "\n",
    "print(\"Row with maximum 1's is :\", row + 1)"
   ]
  }
 ],
 "metadata": {
  "kernelspec": {
   "display_name": "Python 3",
   "language": "python",
   "name": "python3"
  },
  "language_info": {
   "codemirror_mode": {
    "name": "ipython",
    "version": 3
   },
   "file_extension": ".py",
   "mimetype": "text/x-python",
   "name": "python",
   "nbconvert_exporter": "python",
   "pygments_lexer": "ipython3",
   "version": "3.13.0"
  }
 },
 "nbformat": 4,
 "nbformat_minor": 5
}
