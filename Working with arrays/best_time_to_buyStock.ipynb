{
 "cells": [
  {
   "cell_type": "code",
   "execution_count": 1,
   "id": "c6cb852e",
   "metadata": {},
   "outputs": [
    {
     "name": "stdout",
     "output_type": "stream",
     "text": [
      "We can make maximum profit of 655\n"
     ]
    }
   ],
   "source": [
    "def profit(arr):\n",
    "    pro = 0\n",
    "    for i in range(len(arr) - 1):\n",
    "        for j in range(i + 1, len(arr)):\n",
    "            if arr[j] - arr[i] > pro:\n",
    "                pro = arr[j] - arr[i]\n",
    "    return pro\n",
    "\n",
    "\n",
    "array = [70, 150, 230, 280, 10, 505, 665]\n",
    "print(\"We can make maximum profit of\", profit(array))"
   ]
  }
 ],
 "metadata": {
  "kernelspec": {
   "display_name": "Python 3",
   "language": "python",
   "name": "python3"
  },
  "language_info": {
   "codemirror_mode": {
    "name": "ipython",
    "version": 3
   },
   "file_extension": ".py",
   "mimetype": "text/x-python",
   "name": "python",
   "nbconvert_exporter": "python",
   "pygments_lexer": "ipython3",
   "version": "3.13.0"
  }
 },
 "nbformat": 4,
 "nbformat_minor": 5
}
