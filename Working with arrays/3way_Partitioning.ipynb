{
 "cells": [
  {
   "cell_type": "code",
   "execution_count": 1,
   "id": "3fa59444",
   "metadata": {},
   "outputs": [
    {
     "name": "stdout",
     "output_type": "stream",
     "text": [
      "After Partitioning : [1, 13, 5, 3, 10, 17, 16, 18, 22, 43]\n"
     ]
    }
   ],
   "source": [
    "def partition(arr, l, h):\n",
    "    lm = []\n",
    "    mm = []\n",
    "    hm = []\n",
    "    for i in arr:\n",
    "        if i < l:\n",
    "            lm.append(i)\n",
    "        elif i > h:\n",
    "            hm.append(i)\n",
    "        else:\n",
    "            mm.append(i)\n",
    "    return lm + mm + hm\n",
    "\n",
    "\n",
    "array = [1, 17, 22, 16, 13, 5, 43, 18, 3, 10]\n",
    "lowVal = 14\n",
    "highVal = 20\n",
    "print(\"After Partitioning :\", partition(array, lowVal, highVal))"
   ]
  }
 ],
 "metadata": {
  "kernelspec": {
   "display_name": "Python 3",
   "language": "python",
   "name": "python3"
  },
  "language_info": {
   "codemirror_mode": {
    "name": "ipython",
    "version": 3
   },
   "file_extension": ".py",
   "mimetype": "text/x-python",
   "name": "python",
   "nbconvert_exporter": "python",
   "pygments_lexer": "ipython3",
   "version": "3.13.0"
  }
 },
 "nbformat": 4,
 "nbformat_minor": 5
}
