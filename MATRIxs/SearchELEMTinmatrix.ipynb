{
 "cells": [
  {
   "cell_type": "code",
   "execution_count": 2,
   "id": "9965cc71",
   "metadata": {},
   "outputs": [
    {
     "name": "stdout",
     "output_type": "stream",
     "text": [
      "cat tac act\n",
      "dog god\n",
      "z\n"
     ]
    }
   ],
   "source": [
    "from collections import defaultdict # to create a dictionary\n",
    " \n",
    "#taking the words as input list\n",
    "words = [ \"cat\", \"dog\", \"tac\", \"god\", \"act\", \"z\" ]\n",
    "\n",
    "# anagram dictionary\n",
    "anagrams = defaultdict(list)\n",
    "\n",
    "# this will check if the words are anagrams of eachother\n",
    "for word in words:\n",
    "  anagrams[''.join(sorted(word))].append(word)\n",
    "\n",
    "# this loop will print all the anagrams together\n",
    "for anagram in anagrams.values():\n",
    "  print(' '.join(anagram))"
   ]
  }
 ],
 "metadata": {
  "kernelspec": {
   "display_name": "Python 3",
   "language": "python",
   "name": "python3"
  },
  "language_info": {
   "codemirror_mode": {
    "name": "ipython",
    "version": 3
   },
   "file_extension": ".py",
   "mimetype": "text/x-python",
   "name": "python",
   "nbconvert_exporter": "python",
   "pygments_lexer": "ipython3",
   "version": "3.13.0"
  }
 },
 "nbformat": 4,
 "nbformat_minor": 5
}
