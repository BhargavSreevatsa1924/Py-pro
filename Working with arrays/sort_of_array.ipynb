{
 "cells": [
  {
   "cell_type": "code",
   "execution_count": 5,
   "id": "830ba54e",
   "metadata": {},
   "outputs": [
    {
     "name": "stdout",
     "output_type": "stream",
     "text": [
      "-1 1 2 3 8 6 5 4 "
     ]
    }
   ],
   "source": [
    "# Python 3 program to print first half\n",
    "# in ascending order and the second half\n",
    "# in descending order\n",
    "\n",
    "# function to print half of the array in\n",
    "# ascending order and the other half in\n",
    "# descending order\n",
    "\n",
    "def printOrder(arr, n):\n",
    "\n",
    "    # sorting the array\n",
    "    arr.sort()\n",
    "\n",
    "    # printing first half in ascending order\n",
    "\n",
    "    for i in range(int(n / 2)):\n",
    "        print(arr[i], end = \" \")\n",
    "\n",
    "    # printing second half in descending order\n",
    "\n",
    "    for j in range(n - 1, n // 2 -1, -1) :\n",
    "        print(arr[j], end = \" \")\n",
    "\n",
    "# Driver code\n",
    "arr = [ 5, 4, 6, 2, 1, 3, 8, -1 ]\n",
    "n = len(arr)\n",
    "printOrder(arr, n)"
   ]
  }
 ],
 "metadata": {
  "kernelspec": {
   "display_name": "Python 3",
   "language": "python",
   "name": "python3"
  },
  "language_info": {
   "codemirror_mode": {
    "name": "ipython",
    "version": 3
   },
   "file_extension": ".py",
   "mimetype": "text/x-python",
   "name": "python",
   "nbconvert_exporter": "python",
   "pygments_lexer": "ipython3",
   "version": "3.13.0"
  }
 },
 "nbformat": 4,
 "nbformat_minor": 5
}
