{
 "cells": [
  {
   "cell_type": "code",
   "execution_count": 1,
   "id": "41d35754",
   "metadata": {},
   "outputs": [
    {
     "name": "stdout",
     "output_type": "stream",
     "text": [
      "Given string is balanced : True\n"
     ]
    }
   ],
   "source": [
    "def isbalanced(s):\n",
    "  c= 0\n",
    "  ans=False\n",
    "  for i in s:\n",
    "    if i == \"(\": \n",
    "     c += 1\n",
    "    elif i == \")\":\n",
    "     c-= 1\n",
    "    if c < 0:\n",
    "     return ans\n",
    "    if c==0:\n",
    "     return not ans\n",
    "  return ans\n",
    "s=\"{[]}\"\n",
    "print(\"Given string is balanced :\",isbalanced(s))"
   ]
  },
  {
   "cell_type": "code",
   "execution_count": 2,
   "id": "7d4553b8",
   "metadata": {},
   "outputs": [
    {
     "name": "stdout",
     "output_type": "stream",
     "text": [
      "Given string is balanced: True\n"
     ]
    }
   ],
   "source": [
    "def isbalanced(s):\n",
    "    while(len(s)!=0):\n",
    "        s=s.replace('()','')\n",
    "        s=s.replace('[]','')\n",
    "        s=s.replace('{}','')\n",
    "    if(len(s)==0):\n",
    "        return True\n",
    "    else:\n",
    "        return False\n",
    "s=input(\"Enter a string of brackets:\")\n",
    "print(\"Given string is balanced:\",isbalanced(s))"
   ]
  }
 ],
 "metadata": {
  "kernelspec": {
   "display_name": "Python 3",
   "language": "python",
   "name": "python3"
  },
  "language_info": {
   "codemirror_mode": {
    "name": "ipython",
    "version": 3
   },
   "file_extension": ".py",
   "mimetype": "text/x-python",
   "name": "python",
   "nbconvert_exporter": "python",
   "pygments_lexer": "ipython3",
   "version": "3.13.0"
  }
 },
 "nbformat": 4,
 "nbformat_minor": 5
}
