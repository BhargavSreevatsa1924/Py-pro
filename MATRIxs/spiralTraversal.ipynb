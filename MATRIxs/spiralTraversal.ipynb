{
 "cells": [
  {
   "cell_type": "markdown",
   "id": "7a1f5d13",
   "metadata": {},
   "source": [
    "Time and Space Complexities :\n",
    "Time-Complexity: O(r*c)\n",
    "Space-Complexity: O(1)"
   ]
  },
  {
   "cell_type": "code",
   "execution_count": 1,
   "id": "b9042cbe",
   "metadata": {},
   "outputs": [
    {
     "name": "stdout",
     "output_type": "stream",
     "text": [
      "1 2 3 4 15 14 13 9 5 6 7 11 10 "
     ]
    }
   ],
   "source": [
    "r = 4\n",
    "c = 4\n",
    "\n",
    "a = [[1, 2, 3, 4],\n",
    "     [5, 6, 7, 8],\n",
    "     [9, 10, 11, 12],\n",
    "     [13, 14, 15, 16]]\n",
    "\n",
    "left = 0\n",
    "right = c - 1\n",
    "top = 0\n",
    "bottom = r - 1\n",
    "\n",
    "while left <= right and top <= bottom:\n",
    "\n",
    "    \"\"\" Print the first row from the remaining rows\"\"\"\n",
    "    for i in range(left, right + 1):\n",
    "        print(a[top][i], end=\" \")\n",
    "    top += 1\n",
    "\n",
    "    \"\"\" Print the last column from the remaining columns\"\"\"\n",
    "    for i in range(top, bottom - 1, -1):\n",
    "        print(a[i][right], end=\" \")\n",
    "    right -= 1\n",
    "    \n",
    "    \n",
    "    \"\"\"Print the last row from the remaining rows\"\"\"\n",
    "    if top <= bottom:\n",
    "        for i in range(right, left - 1, -1):\n",
    "            print(a[bottom][i], end=\" \")\n",
    "        bottom -= 1\n",
    "\n",
    "    \"\"\"Print the first column from the remaining columns\"\"\"\n",
    "    if left <= right:\n",
    "        for i in range(bottom, top - 1, -1):\n",
    "            print(a[i][left], end=\" \")\n",
    "        left += 1"
   ]
  },
  {
   "cell_type": "code",
   "execution_count": 2,
   "id": "e960b7d3",
   "metadata": {},
   "outputs": [
    {
     "name": "stdout",
     "output_type": "stream",
     "text": [
      "1 2 3 4 8 12 16 15 14 13 9 5 6 7 11 10\n"
     ]
    }
   ],
   "source": [
    "R = 4 # DFS WAY\n",
    "C = 4\n",
    "\n",
    "\n",
    "def isInBounds(i, j):\n",
    "    global R\n",
    "    global C\n",
    "    if i < 0 or i >= R or j < 0 or j >= C:\n",
    "        return False\n",
    "    return True\n",
    "\n",
    "\n",
    "# Check if the position is blocked\n",
    "def isBlocked(matrix, i, j):\n",
    "    if not isInBounds(i, j):\n",
    "        return True\n",
    "    if matrix[i][j] == -1:\n",
    "        return True\n",
    "    return False\n",
    "# DFS code to traverse spirally\n",
    "def spirallyDFSTravserse(matrix, i, j, Dir, res):\n",
    "    if isBlocked(matrix, i, j):\n",
    "        return\n",
    "\n",
    "    allBlocked = True\n",
    "    for k in range(-1, 2, 2):\n",
    "        allBlocked = allBlocked and isBlocked(\n",
    "            matrix, k + i, j) and isBlocked(matrix, i, j + k)\n",
    "\n",
    "    res.append(matrix[i][j])\n",
    "    matrix[i][j] = -1\n",
    "    if allBlocked:\n",
    "        return\n",
    "    \n",
    "    \n",
    "    # dir: 0 - right, 1 - down, 2 - left, 3 - up\n",
    "    nxt_i = i\n",
    "    nxt_j = j\n",
    "    nxt_dir = Dir\n",
    "    if Dir == 0:\n",
    "        if not isBlocked(matrix, i, j + 1):\n",
    "            nxt_j += 1\n",
    "        else:\n",
    "            nxt_dir = 1\n",
    "            nxt_i += 1\n",
    "\n",
    "    elif Dir == 1:\n",
    "        if not isBlocked(matrix, i + 1, j):\n",
    "            nxt_i += 1\n",
    "        else:\n",
    "            nxt_dir = 2\n",
    "            nxt_j -= 1\n",
    "    elif Dir == 2:\n",
    "        if not isBlocked(matrix, i, j - 1):\n",
    "            nxt_j -= 1\n",
    "        else:\n",
    "            nxt_dir = 3\n",
    "            nxt_i -= 1\n",
    "\n",
    "    elif Dir == 3:\n",
    "        if not isBlocked(matrix, i - 1, j):\n",
    "            nxt_i -= 1\n",
    "        else:\n",
    "            nxt_dir = 0\n",
    "            nxt_j += 1\n",
    "\n",
    "    spirallyDFSTravserse(matrix, nxt_i, nxt_j, nxt_dir, res)\n",
    "    \n",
    "def spirallyTraverse(matrix):\n",
    "    res = []\n",
    "    spirallyDFSTravserse(matrix, 0, 0, 0, res)\n",
    "    return res\n",
    "\n",
    "\n",
    "a = [[1, 2, 3, 4],\n",
    "     [5, 6, 7, 8],\n",
    "     [9, 10, 11, 12],\n",
    "     [13, 14, 15, 16]]\n",
    "\n",
    "res = spirallyTraverse(a)\n",
    "print(*res)\n"
   ]
  }
 ],
 "metadata": {
  "kernelspec": {
   "display_name": "Python 3",
   "language": "python",
   "name": "python3"
  },
  "language_info": {
   "codemirror_mode": {
    "name": "ipython",
    "version": 3
   },
   "file_extension": ".py",
   "mimetype": "text/x-python",
   "name": "python",
   "nbconvert_exporter": "python",
   "pygments_lexer": "ipython3",
   "version": "3.13.0"
  }
 },
 "nbformat": 4,
 "nbformat_minor": 5
}
