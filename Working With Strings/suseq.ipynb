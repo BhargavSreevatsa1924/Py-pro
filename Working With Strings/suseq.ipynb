{
 "cells": [
  {
   "cell_type": "code",
   "execution_count": null,
   "id": "ad3d013e",
   "metadata": {},
   "outputs": [
    {
     "name": "stdout",
     "output_type": "stream",
     "text": [
      "3\n"
     ]
    },
    {
     "ename": "",
     "evalue": "",
     "output_type": "error",
     "traceback": [
      "\u001b[1;31mThe Kernel crashed while executing code in the current cell or a previous cell. \n",
      "\u001b[1;31mPlease review the code in the cell(s) to identify a possible cause of the failure. \n",
      "\u001b[1;31mClick <a href='https://aka.ms/vscodeJupyterKernelCrash'>here</a> for more info. \n",
      "\u001b[1;31mView Jupyter <a href='command:jupyter.viewOutput'>log</a> for further details."
     ]
    }
   ],
   "source": [
    "#Count Common Subsequence in two Strings\n",
    "n=\"ABC\"\n",
    "m=\"AB\"\n",
    "l1,l2=len(n),len(m)\n",
    "cnt=[[0 for i in range(l2+1)] for i in range(l1+1)]\n",
    "for i in range(1,l1+1):\n",
    "    for j in range(1,l2+1):\n",
    "         if(n[i-1] == m[j-1]):\n",
    "             cnt[i][j] = 1 + cnt[i][j-1] + cnt[i-1][j]\n",
    "         else:\n",
    "             cnt[i][j] = cnt[i][j-1] + cnt[i-1][j] - cnt[i-1][j-1]\n",
    "print(cnt[l1][l2])"
   ]
  }
 ],
 "metadata": {
  "kernelspec": {
   "display_name": "Python 3",
   "language": "python",
   "name": "python3"
  },
  "language_info": {
   "codemirror_mode": {
    "name": "ipython",
    "version": 3
   },
   "file_extension": ".py",
   "mimetype": "text/x-python",
   "name": "python",
   "nbconvert_exporter": "python",
   "pygments_lexer": "ipython3",
   "version": "3.13.0"
  }
 },
 "nbformat": 4,
 "nbformat_minor": 5
}
