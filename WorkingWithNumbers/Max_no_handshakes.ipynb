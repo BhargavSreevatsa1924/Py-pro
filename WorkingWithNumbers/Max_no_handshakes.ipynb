{
 "cells": [
  {
   "cell_type": "code",
   "execution_count": 2,
   "id": "41c6bce1",
   "metadata": {},
   "outputs": [
    {
     "name": "stdout",
     "output_type": "stream",
     "text": [
      "Maximum number of handshakes possible for 30 pople are 435\n"
     ]
    }
   ],
   "source": [
    "# number of people\n",
    "N = 30\n",
    "\n",
    "# formula\n",
    "no_of_handshakes = int(N * ((N - 1) / 2))\n",
    "\n",
    "# print number of handshakes\n",
    "print('Maximum number of handshakes possible for', N, 'pople are', no_of_handshakes)"
   ]
  }
 ],
 "metadata": {
  "kernelspec": {
   "display_name": "Python 3",
   "language": "python",
   "name": "python3"
  },
  "language_info": {
   "codemirror_mode": {
    "name": "ipython",
    "version": 3
   },
   "file_extension": ".py",
   "mimetype": "text/x-python",
   "name": "python",
   "nbconvert_exporter": "python",
   "pygments_lexer": "ipython3",
   "version": "3.13.0"
  }
 },
 "nbformat": 4,
 "nbformat_minor": 5
}
