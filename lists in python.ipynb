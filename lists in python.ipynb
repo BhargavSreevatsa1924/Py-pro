{
 "cells": [
  {
   "cell_type": "markdown",
   "metadata": {},
   "source": [
    "Properties :\n",
    "1. indexed, mutable,allow duplicates, stores heterogenous datatypes\n",
    "2. nested format"
   ]
  },
  {
   "cell_type": "code",
   "execution_count": 2,
   "metadata": {},
   "outputs": [
    {
     "name": "stdout",
     "output_type": "stream",
     "text": [
      "list L1 is : []\n",
      "list L2 is : []\n"
     ]
    }
   ],
   "source": [
    "# declaration of list\n",
    "L1 = list()\n",
    "L2 = []\n",
    "print('list L1 is :',L1)\n",
    "print('list L2 is :',L2)"
   ]
  },
  {
   "cell_type": "code",
   "execution_count": 3,
   "metadata": {},
   "outputs": [
    {
     "data": {
      "text/plain": [
       "0"
      ]
     },
     "execution_count": 3,
     "metadata": {},
     "output_type": "execute_result"
    }
   ],
   "source": [
    "len(L1)"
   ]
  },
  {
   "cell_type": "markdown",
   "metadata": {},
   "source": [
    "1. append(element) add the element to the last of the array\n",
    "2.  insert(Index, element)\n",
    "3.  count(element) tells abt the count of the index the element passed\n",
    "4.  pop(index of element) \n",
    "5. remove(index) removes the first occurence of the element"
   ]
  },
  {
   "cell_type": "code",
   "execution_count": 7,
   "metadata": {},
   "outputs": [
    {
     "name": "stdout",
     "output_type": "stream",
     "text": [
      "give inputs to the list : \n",
      "['bs', 'bs', 'bs', 'bs', 'bs']\n"
     ]
    }
   ],
   "source": [
    "lst = list()\n",
    "n = 5\n",
    "print('give inputs to the list : ')\n",
    "for i in range(n):\n",
    "    a = input()\n",
    "    lst.append(a)\n",
    "print(lst)\n"
   ]
  },
  {
   "cell_type": "code",
   "execution_count": 9,
   "metadata": {},
   "outputs": [
    {
     "name": "stdout",
     "output_type": "stream",
     "text": [
      "['bs', 'kn', 'kn', 'bs', 'bs', 'bs', 'bs']\n"
     ]
    }
   ],
   "source": [
    "lst.insert(1,'kn')\n",
    "print(lst)"
   ]
  },
  {
   "cell_type": "code",
   "execution_count": 11,
   "metadata": {},
   "outputs": [
    {
     "data": {
      "text/plain": [
       "5"
      ]
     },
     "execution_count": 11,
     "metadata": {},
     "output_type": "execute_result"
    }
   ],
   "source": [
    "lst.count('bs')"
   ]
  },
  {
   "cell_type": "code",
   "execution_count": 17,
   "metadata": {},
   "outputs": [],
   "source": [
    "# deleting the elements using del(slicing)\n",
    "del(lst[:3])\n",
    "for i in range(5):\n",
    "    lst.append(i)"
   ]
  },
  {
   "cell_type": "code",
   "execution_count": 18,
   "metadata": {},
   "outputs": [
    {
     "data": {
      "text/plain": [
       "[0, 1, 2, 3, 4]"
      ]
     },
     "execution_count": 18,
     "metadata": {},
     "output_type": "execute_result"
    }
   ],
   "source": [
    "lst"
   ]
  },
  {
   "cell_type": "code",
   "execution_count": 19,
   "metadata": {},
   "outputs": [
    {
     "name": "stdout",
     "output_type": "stream",
     "text": [
      "0 1 2 3\n",
      "0 1 2 3\n",
      "0 1 2 3\n",
      "0 1 2 3\n"
     ]
    }
   ],
   "source": [
    "# nested lists\n",
    "n = 4\n",
    "m= 4\n",
    "o = [[i for i in range(m)] for j in range(n)]\n",
    "for i in range(n):\n",
    "    print(*o[i],sep=' ')"
   ]
  },
  {
   "cell_type": "code",
   "execution_count": 24,
   "metadata": {},
   "outputs": [
    {
     "name": "stdout",
     "output_type": "stream",
     "text": [
      "1\n",
      "2\n",
      "3\n",
      "4\n"
     ]
    }
   ],
   "source": [
    "n = 4\n",
    "m =4 \n",
    "p =[]\n",
    "for i in range(n):\n",
    "    x = list(map(int,input().split()))\n",
    "    p.append(x)\n",
    "for i in range(n):\n",
    "    print(*p[i],sep=' ')"
   ]
  },
  {
   "cell_type": "markdown",
   "metadata": {},
   "source": [
    "TUPLES"
   ]
  },
  {
   "cell_type": "code",
   "execution_count": 28,
   "metadata": {},
   "outputs": [
    {
     "data": {
      "text/plain": [
       "['a', 1, 'b', 1, 'c', 3]"
      ]
     },
     "execution_count": 28,
     "metadata": {},
     "output_type": "execute_result"
    }
   ],
   "source": [
    "# CREATION OF LIST FROM TUPLE \n",
    "lt = [('a',1),('b',1),('c',3)]\n",
    "liout = [item for t in lt for item in t]\n",
    "liout"
   ]
  },
  {
   "cell_type": "code",
   "execution_count": 27,
   "metadata": {},
   "outputs": [
    {
     "data": {
      "text/plain": [
       "['a', 4, 'b', 5, 'c', 6]"
      ]
     },
     "execution_count": 27,
     "metadata": {},
     "output_type": "execute_result"
    }
   ],
   "source": [
    "import itertools\n",
    "tup = [('a',4),('b',5),('c',6)]\n",
    "L =  list(itertools.chain(*tup))\n",
    "L"
   ]
  }
 ],
 "metadata": {
  "kernelspec": {
   "display_name": "Python 3",
   "language": "python",
   "name": "python3"
  },
  "language_info": {
   "codemirror_mode": {
    "name": "ipython",
    "version": 3
   },
   "file_extension": ".py",
   "mimetype": "text/x-python",
   "name": "python",
   "nbconvert_exporter": "python",
   "pygments_lexer": "ipython3",
   "version": "3.13.0"
  }
 },
 "nbformat": 4,
 "nbformat_minor": 2
}
