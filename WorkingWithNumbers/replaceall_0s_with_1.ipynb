{
 "cells": [
  {
   "cell_type": "markdown",
   "id": "10a5be79",
   "metadata": {},
   "source": [
    "Algorithm\n",
    "* Take Input in num and initialize a variable num with with value 0\n",
    "* If num is equals to zero then update the value of num2 to 1\n",
    "* Iterate using a while loop until num is greater then 0\n",
    "* For each iteration initialize a variable rem and store unit digit of num\n",
    "* If rem equals to 0 then set rem to 1\n",
    "* Set num to num divide by 10 & num2 equals to num2*10+rem\n",
    "* Reverse and print num2"
   ]
  },
  {
   "cell_type": "code",
   "execution_count": 1,
   "id": "692527fe",
   "metadata": {},
   "outputs": [
    {
     "name": "stdout",
     "output_type": "stream",
     "text": [
      "Converted number is: 12191\n"
     ]
    }
   ],
   "source": [
    "# METHOD 1\n",
    "num = int(input(\"Enter number : \"))\n",
    "num2 = 0\n",
    "\n",
    "if num == 0:\n",
    "    num2 = 1\n",
    "\n",
    "while num > 0:\n",
    "    rem = num % 10\n",
    "    if rem == 0:\n",
    "        rem = 1\n",
    "    num = num//10\n",
    "    num2 = num2 * 10 + rem\n",
    "\n",
    "num = 0\n",
    "while num2 > 0:\n",
    "    r = num2 % 10\n",
    "    num = num * 10 + r\n",
    "    num2 //= 10\n",
    "\n",
    "print(\"Converted number is:\", num)"
   ]
  },
  {
   "cell_type": "code",
   "execution_count": 2,
   "id": "ff214557",
   "metadata": {},
   "outputs": [
    {
     "name": "stdout",
     "output_type": "stream",
     "text": [
      "Converted number is : 12191\n"
     ]
    }
   ],
   "source": [
    "# METHOD 2\n",
    "#taking Input\n",
    "n=int(input('Enter number: '))\n",
    "#converting into string\n",
    "n=str(n) \n",
    "#then into the list\n",
    "n=list(n)\n",
    "r=\"\" #empty string for addind it the item of list\n",
    "for i in range(len(n)):\n",
    "    #if we find '0' we will replace it with '1'\n",
    "    if(n[i]=='0'):\n",
    "        n[i]='1'\n",
    "    r=r + n[i]  #creating the new integer \n",
    "del n    \n",
    "print(\"Converted number is :\",int(r))"
   ]
  },
  {
   "cell_type": "code",
   "execution_count": 3,
   "id": "42551610",
   "metadata": {},
   "outputs": [
    {
     "name": "stdout",
     "output_type": "stream",
     "text": [
      "Converted number is: 111234\n"
     ]
    }
   ],
   "source": [
    "# METHOD 3\n",
    "n=int(input(\"Enter number: \"))\n",
    "s=str(n)\n",
    "l=[]\n",
    "for i in s:\n",
    "    if(i=='0'):\n",
    "        l.append('1')\n",
    "    else:\n",
    "        l.append(i)\n",
    "ns=\"\"\n",
    "for i in l:\n",
    "    ns+=i\n",
    "print(\"Converted number is:\", int(ns))"
   ]
  },
  {
   "cell_type": "code",
   "execution_count": 4,
   "id": "e96dddc9",
   "metadata": {},
   "outputs": [
    {
     "name": "stdout",
     "output_type": "stream",
     "text": [
      "Converted number is:111\n"
     ]
    }
   ],
   "source": [
    "# METHOD 4\n",
    "#take inputs\n",
    "Val = int(input('Enter number:'))\n",
    "#change type to string\n",
    "Val = str(Val)\n",
    "Replaced = Val.replace('0','1')\n",
    "print(\"Converted number is:\" + Replaced)"
   ]
  }
 ],
 "metadata": {
  "kernelspec": {
   "display_name": "Python 3",
   "language": "python",
   "name": "python3"
  },
  "language_info": {
   "codemirror_mode": {
    "name": "ipython",
    "version": 3
   },
   "file_extension": ".py",
   "mimetype": "text/x-python",
   "name": "python",
   "nbconvert_exporter": "python",
   "pygments_lexer": "ipython3",
   "version": "3.13.0"
  }
 },
 "nbformat": 4,
 "nbformat_minor": 5
}
