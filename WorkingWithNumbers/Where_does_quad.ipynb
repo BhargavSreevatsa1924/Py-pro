{
 "cells": [
  {
   "cell_type": "markdown",
   "id": "50e520c6",
   "metadata": {},
   "source": [
    "1. Get value of x & y\n",
    "2. If ( x>0 and y>0 ) First Quadrant\n",
    "3. If ( x<0 and y>0 ) Second Quadrant\n",
    "4. If ( x<0 and y<0 ) Third Quadrant\n",
    "5. If ( x>0 and y>0 ) Fourth Quadrant\n",
    "6. If ( x=0 and y=0 ) Origin\n",
    "7. If ( x!=0 and y=0 ) x-axis\n",
    "8. If ( x>0 and y>0 ) y-axis"
   ]
  },
  {
   "cell_type": "markdown",
   "id": "1d255c89",
   "metadata": {},
   "source": [
    "<!-- Get value of x & y\n",
    "If ( x>0 and y>0 ) First Quadrant\n",
    "If ( x<0 and y>0 ) Second Quadrant\n",
    "If ( x<0 and y<0 ) Third Quadrant\n",
    "If ( x>0 and y>0 ) Fourth Quadrant\n",
    "If ( x=0 and y=0 ) Origin\n",
    "If ( x!=0 and y=0 ) x-axis\n",
    "If ( x>0 and y>0 ) y-axis -->"
   ]
  },
  {
   "cell_type": "code",
   "execution_count": 1,
   "id": "52b42c89",
   "metadata": {},
   "outputs": [
    {
     "name": "stdout",
     "output_type": "stream",
     "text": [
      "point ( -3 , -33 ) lies in the Third quadrant\n"
     ]
    }
   ],
   "source": [
    "# for initialization of coordinates\n",
    "x, y = map(int, list(input(\"Insert the value for variable X and Y : \").split(\" \")))\n",
    "\n",
    "# find true condition of first quadrant\n",
    "if x > 0 and y > 0:\n",
    "    print(\"point (\", x, \",\", y, \") lies in the First quadrant\")\n",
    "\n",
    "# find second quadrant\n",
    "elif x < 0 and y > 0:\n",
    "    print(\"point (\", x, \",\", y, \") lies in the Second quadrant\")\n",
    "\n",
    "# To find third quadrant\n",
    "elif x < 0 and y < 0: \n",
    "    print(\"point (\", x, \",\", y, \") lies in the Third quadrant\")\n",
    " # To find Fourth quadrant \n",
    "elif x > 0 and y < 0:\n",
    "    print(\"point (\", x, \",\", y, \") lies in the Fourth quadrant\")\n",
    "\n",
    "# To find does not lie on origin\n",
    "elif x == 0 and y == 0:\n",
    "    print(\"point (\", x, \",\", y, \") lies at the origin\")\n",
    "\n",
    "# On x-axis\n",
    "elif y == 0 and x != 0:\n",
    "    print(\"point (\", x, \",\", y, \") on x-axis\")\n",
    "\n",
    "# On y-axis\n",
    "elif x == 0 and y != 0:\n",
    "    print(\"point (\", x, \",\", y, \") on at y-axis\")"
   ]
  }
 ],
 "metadata": {
  "kernelspec": {
   "display_name": "Python 3",
   "language": "python",
   "name": "python3"
  },
  "language_info": {
   "codemirror_mode": {
    "name": "ipython",
    "version": 3
   },
   "file_extension": ".py",
   "mimetype": "text/x-python",
   "name": "python",
   "nbconvert_exporter": "python",
   "pygments_lexer": "ipython3",
   "version": "3.13.0"
  }
 },
 "nbformat": 4,
 "nbformat_minor": 5
}
