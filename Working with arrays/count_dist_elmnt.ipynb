{
 "cells": [
  {
   "cell_type": "code",
   "execution_count": null,
   "id": "d7287635",
   "metadata": {},
   "outputs": [
    {
     "name": "stdout",
     "output_type": "stream",
     "text": [
      "5\n"
     ]
    }
   ],
   "source": [
    "# Python 3 program to count unique elements\n",
    "# Time Complexity : O(n2)\n",
    "# Space Complexity : O(n)\n",
    "# using 2 loops\n",
    "def count(arr, n):\n",
    "\n",
    "   # Mark all array elements as not visited\n",
    "    visited = [False for i in range(n)]\n",
    "    count_dis=0\n",
    "\n",
    "   # Traverse through array elements\n",
    "   # and count frequencies\n",
    "    for i in range(n):\n",
    "     # Skip this element if already\n",
    "     # processed\n",
    "        if (visited[i] == True):\n",
    "          continue\n",
    "\n",
    "     # Count frequency\n",
    "        for j in range(i + 1, n, 1):\n",
    "            if (arr[i] == arr[j]):\n",
    "                visited[j] = True\n",
    "         \n",
    "        count_dis = count_dis+1;\n",
    "   \n",
    "    print(count_dis)\n",
    "\n",
    "# Driver Code\n",
    "arr = [10, 30, 40, 20, 10, 20, 50, 10]\n",
    "n = len(arr)\n",
    "count(arr, n)"
   ]
  },
  {
   "cell_type": "code",
   "execution_count": null,
   "id": "e28c16e4",
   "metadata": {},
   "outputs": [
    {
     "name": "stdout",
     "output_type": "stream",
     "text": [
      "5\n"
     ]
    }
   ],
   "source": [
    "# using Dictionary\n",
    "# Time Complexity : O(n)\n",
    "# Space Complexity : O(n)\n",
    "\n",
    "def count(arr, n):\n",
    "\n",
    "    mp = dict()\n",
    "    count_dis=0\n",
    "    # Traverse through array elements\n",
    "    # and count frequencies\n",
    "\n",
    "    for i in range(n):\n",
    "        if arr[i] in mp.keys():\n",
    "            mp[arr[i]] += 1\n",
    "        else:\n",
    "            mp[arr[i]] = 1\n",
    "\n",
    "    print(len(mp))\n",
    "\n",
    "# Driver Code \n",
    "arr = [10, 30, 40, 20, 10, 20, 50, 10] \n",
    "n = len(arr) \n",
    "count(arr, n)"
   ]
  }
 ],
 "metadata": {
  "kernelspec": {
   "display_name": "Python 3",
   "language": "python",
   "name": "python3"
  },
  "language_info": {
   "codemirror_mode": {
    "name": "ipython",
    "version": 3
   },
   "file_extension": ".py",
   "mimetype": "text/x-python",
   "name": "python",
   "nbconvert_exporter": "python",
   "pygments_lexer": "ipython3",
   "version": "3.13.0"
  }
 },
 "nbformat": 4,
 "nbformat_minor": 5
}
