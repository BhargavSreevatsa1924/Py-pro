{
 "cells": [
  {
   "cell_type": "code",
   "execution_count": 3,
   "id": "57f03af2",
   "metadata": {},
   "outputs": [
    {
     "name": "stdout",
     "output_type": "stream",
     "text": [
      "10\n",
      "20\n"
     ]
    }
   ],
   "source": [
    "# Repeating Elements\n",
    "# Using Two Loops\n",
    "# Time Complexity : O(n2)\n",
    "# Space Complexity : O(n)\n",
    "# Python 3 program to count unique elements\n",
    "def count(arr, n):\n",
    "\n",
    "   # Mark all array elements as not visited\n",
    "   visited = [False for i in range(n)]\n",
    "\n",
    "   # Traverse through array elements\n",
    "   # and count frequencies\n",
    "   for i in range(n):\n",
    "\n",
    "     # Skip this element if already\n",
    "     # processed\n",
    "     if (visited[i] == True):\n",
    "        continue\n",
    "\n",
    "     # Count frequency\n",
    "     count = 1\n",
    "     for j in range(i + 1, n, 1):\n",
    "        if (arr[i] == arr[j]):\n",
    "          visited[j] = True\n",
    "          count += 1\n",
    "     if count != 1 :\n",
    "        print(arr[i]);\n",
    "\n",
    "\n",
    "# Driver Code\n",
    "arr = [10, 30, 40, 20, 10, 20, 50, 10]\n",
    "n = len(arr)\n",
    "count(arr,n)"
   ]
  },
  {
   "cell_type": "code",
   "execution_count": 2,
   "id": "f40301e1",
   "metadata": {},
   "outputs": [
    {
     "name": "stdout",
     "output_type": "stream",
     "text": [
      "10\n",
      "20\n"
     ]
    }
   ],
   "source": [
    "# using HASH map\n",
    "# Time Complexity : O(n)\n",
    "# Space Complexity : O(n)\n",
    "def count(arr, n):\n",
    "\n",
    "    mp = dict()\n",
    "    # Traverse through array elements\n",
    "    # and count frequencies\n",
    "\n",
    "    for i in range(n):\n",
    "        if arr[i] in mp.keys():\n",
    "            mp[arr[i]] += 1\n",
    "        else:\n",
    "            mp[arr[i]] = 1\n",
    "\n",
    "           \n",
    "    # Traverse through map and print\n",
    "    # frequencies\n",
    "\n",
    "    for x in mp:\n",
    "        if mp[x]!=1 :\n",
    "          print(x)\n",
    "    \n",
    "# Driver Code \n",
    " \n",
    "arr = [10, 30, 40, 20, 10, 20, 50, 10] \n",
    "n = len(arr) \n",
    "count(arr, n)"
   ]
  },
  {
   "cell_type": "code",
   "execution_count": 4,
   "id": "0f8ddf82",
   "metadata": {},
   "outputs": [
    {
     "name": "stdout",
     "output_type": "stream",
     "text": [
      "30\n",
      "40\n",
      "50\n"
     ]
    }
   ],
   "source": [
    "# Python 3 program to count unique elements\n",
    "def count(arr, n):\n",
    "\n",
    "   # Mark all array elements as not visited\n",
    "   visited = [False for i in range(n)]\n",
    "\n",
    "   # Traverse through array elements\n",
    "   # and count frequencies\n",
    "   for i in range(n):\n",
    "\n",
    "     # Skip this element if already\n",
    "     # processed\n",
    "     if (visited[i] == True):\n",
    "        continue\n",
    "\n",
    "     # Count frequency\n",
    "     count = 1\n",
    "     for j in range(i + 1, n, 1):\n",
    "        if (arr[i] == arr[j]):\n",
    "          visited[j] = True\n",
    "          count += 1\n",
    "     if count == 1 :\n",
    "        print(arr[i]);\n",
    "\n",
    "# Driver Code\n",
    "arr = [10, 30, 40, 20, 10, 20, 50, 10]\n",
    "n = len(arr)\n",
    "count(arr, n)"
   ]
  },
  {
   "cell_type": "code",
   "execution_count": 5,
   "id": "5ada17ca",
   "metadata": {},
   "outputs": [
    {
     "name": "stdout",
     "output_type": "stream",
     "text": [
      "30\n",
      "40\n",
      "50\n"
     ]
    }
   ],
   "source": [
    "# using HASH MAP\n",
    "def count(arr, n):\n",
    "\n",
    "    mp = dict()\n",
    "  \n",
    "    # Traverse through array elements\n",
    "    # and count frequencies\n",
    "\n",
    "    for i in range(n):\n",
    "        if arr[i] in mp.keys():\n",
    "            mp[arr[i]] += 1\n",
    "        else:\n",
    "            mp[arr[i]] = 1\n",
    "\n",
    "           \n",
    "    # Traverse through map and print\n",
    "    # frequencies\n",
    "\n",
    "    for x in mp:\n",
    "        if mp[x]==1 :\n",
    "          print(x);\n",
    "   \n",
    "# Driver Code \n",
    "arr = [10, 30, 40, 20, 10, 20, 50, 10] \n",
    "n = len(arr) \n",
    "count(arr, n)"
   ]
  }
 ],
 "metadata": {
  "kernelspec": {
   "display_name": "Python 3",
   "language": "python",
   "name": "python3"
  },
  "language_info": {
   "codemirror_mode": {
    "name": "ipython",
    "version": 3
   },
   "file_extension": ".py",
   "mimetype": "text/x-python",
   "name": "python",
   "nbconvert_exporter": "python",
   "pygments_lexer": "ipython3",
   "version": "3.13.0"
  }
 },
 "nbformat": 4,
 "nbformat_minor": 5
}
