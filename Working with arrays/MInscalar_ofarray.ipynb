{
 "cells": [
  {
   "cell_type": "code",
   "execution_count": 1,
   "id": "fc7464a9",
   "metadata": {},
   "outputs": [
    {
     "name": "stdout",
     "output_type": "stream",
     "text": [
      "149\n"
     ]
    }
   ],
   "source": [
    "arr1 = [1, 2, 6, 3, 7]\n",
    "arr2 = [10, 7, 45, 3, 7]\n",
    "\n",
    "n = len(arr1)\n",
    "\n",
    "#Sort arr1 in ascending order\n",
    "for i in range(n):\n",
    "    for j in range(i+1, n): \n",
    "        if arr1[i]>arr1[j] :\n",
    "            arr1[i], arr1[j] = arr1[j], arr1[i]\n",
    "\n",
    "#Sort arr2 in descending order\n",
    "for i in range(n):\n",
    "    for j in range(i+1, n): \n",
    "        if arr2[i]<arr2[j] :\n",
    "            arr2[i], arr2[j] = arr2[j], arr2[i]\n",
    "\n",
    "product = 0\n",
    "for i in range(n):\n",
    "    product += arr1[i]*arr2[i]\n",
    "\n",
    "print(product)"
   ]
  }
 ],
 "metadata": {
  "kernelspec": {
   "display_name": "Python 3",
   "language": "python",
   "name": "python3"
  },
  "language_info": {
   "codemirror_mode": {
    "name": "ipython",
    "version": 3
   },
   "file_extension": ".py",
   "mimetype": "text/x-python",
   "name": "python",
   "nbconvert_exporter": "python",
   "pygments_lexer": "ipython3",
   "version": "3.13.0"
  }
 },
 "nbformat": 4,
 "nbformat_minor": 5
}
