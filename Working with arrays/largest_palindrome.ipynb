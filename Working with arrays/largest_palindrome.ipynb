{
 "cells": [
  {
   "cell_type": "code",
   "execution_count": 1,
   "id": "8b5191c2",
   "metadata": {},
   "outputs": [
    {
     "name": "stdout",
     "output_type": "stream",
     "text": [
      "5545455\n"
     ]
    }
   ],
   "source": [
    "def isPalindrome(n):\n",
    "\n",
    "   divisor = 1\n",
    "   while (int(n / divisor) >= 10):\n",
    "      divisor *= 10\n",
    "\n",
    "   while (n != 0):\n",
    "      leading = int(n / divisor)\n",
    "      trailing = n % 10\n",
    "  \n",
    "      if (leading != trailing):\n",
    "        return False\n",
    "\n",
    "      n = int((n % divisor) / 10)\n",
    "\n",
    "      divisor = int(divisor / 100)\n",
    "   return True\n",
    "# Function to find the largest palindromic element\n",
    "def largestPalindrome(arr, n):\n",
    "   currentMax = -1\n",
    "\n",
    "   for i in range(0, n, 1):\n",
    "      if (arr[i] > currentMax and isPalindrome(arr[i])):\n",
    "         currentMax = arr[i]\n",
    "\n",
    "   return currentMax\n",
    "\n",
    "# Driver Code\n",
    "\n",
    "arr = [1, 232, 5545455, 909090, 161]\n",
    "n = len(arr)\n",
    "\n",
    "# print required answer\n",
    "print(largestPalindrome(arr, n))\n",
    "\n"
   ]
  }
 ],
 "metadata": {
  "kernelspec": {
   "display_name": "Python 3",
   "language": "python",
   "name": "python3"
  },
  "language_info": {
   "codemirror_mode": {
    "name": "ipython",
    "version": 3
   },
   "file_extension": ".py",
   "mimetype": "text/x-python",
   "name": "python",
   "nbconvert_exporter": "python",
   "pygments_lexer": "ipython3",
   "version": "3.13.0"
  }
 },
 "nbformat": 4,
 "nbformat_minor": 5
}
