{
 "cells": [
  {
   "cell_type": "code",
   "execution_count": 1,
   "id": "03b92f92",
   "metadata": {},
   "outputs": [
    {
     "name": "stdout",
     "output_type": "stream",
     "text": [
      "Sub-array with sum greater than 5 will have a size of 2 Elements for given array\n"
     ]
    }
   ],
   "source": [
    "def sub(arr, x, l):\n",
    "    ans = l+1\n",
    "    for i in range(l):\n",
    "        sum = 0\n",
    "        for j in range(i, l):\n",
    "            sum += arr[j]\n",
    "            if sum > x:\n",
    "                if (j - i) < ans:\n",
    "                    ans = j - i\n",
    "    if ans > l:\n",
    "        return \"NOT POSSIBLE\"\n",
    "    else:\n",
    "        return ans + 1\n",
    "\n",
    "\n",
    "arr = [1, 2, 3, 4, 5]\n",
    "x = 5\n",
    "l = len(arr)\n",
    "print(\"Sub-array with sum greater than\", x, \"will have a size of\", sub(arr, x, l), \"Elements for given array\")"
   ]
  }
 ],
 "metadata": {
  "kernelspec": {
   "display_name": "Python 3",
   "language": "python",
   "name": "python3"
  },
  "language_info": {
   "codemirror_mode": {
    "name": "ipython",
    "version": 3
   },
   "file_extension": ".py",
   "mimetype": "text/x-python",
   "name": "python",
   "nbconvert_exporter": "python",
   "pygments_lexer": "ipython3",
   "version": "3.13.0"
  }
 },
 "nbformat": 4,
 "nbformat_minor": 5
}
