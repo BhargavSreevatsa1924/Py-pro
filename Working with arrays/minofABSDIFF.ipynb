{
 "cells": [
  {
   "cell_type": "code",
   "execution_count": 1,
   "id": "133ae5b8",
   "metadata": {},
   "outputs": [
    {
     "name": "stdout",
     "output_type": "stream",
     "text": [
      "Required Sum =  4\n"
     ]
    }
   ],
   "source": [
    "# naive way\n",
    "# Time Complexity : O(n2)\n",
    "# Space Complexity : O(1)\n",
    "#Write a program to find the sum of minimum absolute difference using python\n",
    "import sys\n",
    "\n",
    "def sumOfMinAbsDifferences(arr,n):\n",
    "    result = sys.maxsize\n",
    "    \n",
    "    for i in range(0,n):\n",
    "        sum = 0;\n",
    "        for j in range(0, n):\n",
    "            sum += abs(arr[i]-arr[j])\n",
    "        result = min(result, sum)\n",
    "    return result;\n",
    "         \n",
    " \n",
    "# Driver code\n",
    "arr = [2, 5, 4, 3]\n",
    "n = len(arr)\n",
    "print( \"Required Sum = \", sumOfMinAbsDifferences(arr, n))"
   ]
  },
  {
   "cell_type": "code",
   "execution_count": 2,
   "id": "75d505b9",
   "metadata": {},
   "outputs": [
    {
     "name": "stdout",
     "output_type": "stream",
     "text": [
      "Required Sum is 4\n"
     ]
    }
   ],
   "source": [
    "# Time Complexity : O(n)\n",
    "# Space Complexity : O(1)\n",
    "# efficent way\n",
    "\n",
    "#Write a program to find the sum of minimum absolute difference using python\n",
    "def sumOfMinAbsDifferences(arr,n):\n",
    "    # sort the given array\n",
    "    arr.sort()\n",
    "    \n",
    "    sum = 0\n",
    "         \n",
    "    sum += abs(arr[0] - arr[1]);\n",
    "         \n",
    "    sum += abs(arr[n - 1] - arr[n - 2]);\n",
    "         \n",
    "    \n",
    "    for i in range(1, n - 1):\n",
    "        sum += min(abs(arr[i] - arr[i - 1]),\n",
    "                  abs(arr[i] - arr[i + 1]))\n",
    "             \n",
    "    # required sum\n",
    "    return sum;\n",
    "         \n",
    " \n",
    "# Driver code\n",
    "arr = [2, 5, 4, 3]\n",
    "n = len(arr)\n",
    "print( \"Required Sum is\", sumOfMinAbsDifferences(arr, n))"
   ]
  }
 ],
 "metadata": {
  "kernelspec": {
   "display_name": "Python 3",
   "language": "python",
   "name": "python3"
  },
  "language_info": {
   "codemirror_mode": {
    "name": "ipython",
    "version": 3
   },
   "file_extension": ".py",
   "mimetype": "text/x-python",
   "name": "python",
   "nbconvert_exporter": "python",
   "pygments_lexer": "ipython3",
   "version": "3.13.0"
  }
 },
 "nbformat": 4,
 "nbformat_minor": 5
}
