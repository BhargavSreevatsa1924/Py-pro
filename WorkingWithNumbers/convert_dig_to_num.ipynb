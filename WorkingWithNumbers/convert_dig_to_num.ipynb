{
 "cells": [
  {
   "cell_type": "code",
   "execution_count": 4,
   "id": "e2070a03",
   "metadata": {},
   "outputs": [
    {
     "name": "stdout",
     "output_type": "stream",
     "text": [
      "1924 : one thousand nine hundred twenty four\n"
     ]
    }
   ],
   "source": [
    "def convert_to_words(num):\n",
    " \n",
    "    l = len(num)\n",
    " \n",
    "    # Base cases\n",
    "    if (l == 0):\n",
    "        print(\"empty string\")\n",
    "        return\n",
    " \n",
    "    if (l > 4):\n",
    "        print(\"Length more than 4 is not supported\")\n",
    "        return\n",
    " \n",
    "    single_digits = [\"zero\", \"one\", \"two\", \"three\", \"four\", \"five\", \"six\", \"seven\", \"eight\", \"nine\"]\n",
    " \n",
    "    two_digits = [\"\", \"ten\", \"eleven\", \"twelve\", \"thirteen\", \"fourteen\", \"fifteen\", \"sixteen\", \"seventeen\", \"eighteen\", \"nineteen\"]\n",
    " \n",
    "    tens_multiple = [\"\", \"\", \"twenty\", \"thirty\", \"forty\", \"fifty\", \"sixty\", \"seventy\", \"eighty\", \"ninety\"]\n",
    " \n",
    "    tens_power = [\"hundred\", \"thousand\"]\n",
    " \n",
    "    print(num, \":\", end=\" \")\n",
    " \n",
    "    if (l == 1):\n",
    "        print(single_digits[ord(num[0]) - 48])\n",
    "        return\n",
    " \n",
    "    x = 0\n",
    "    while (x < len(num)):\n",
    "        if (l >= 3):\n",
    "            if (ord(num[x]) - 48 != 0):\n",
    "                print(single_digits[ord(num[x]) - 48],\n",
    "                      end=\" \")\n",
    "                print(tens_power[l - 3], end=\" \")\n",
    " \n",
    "            l -= 1\n",
    " \n",
    "        else:\n",
    " \n",
    "            if (ord(num[x]) - 48 == 1):\n",
    "                sum = (ord(num[x]) - 48 +\n",
    "                       ord(num[x+1]) - 48)\n",
    "                print(two_digits[sum])\n",
    "                return\n",
    " \n",
    "            elif (ord(num[x]) - 48 == 2 and\n",
    "                  ord(num[x + 1]) - 48 == 0):\n",
    "                print(\"twenty\")\n",
    "                return\n",
    " \n",
    "            else:\n",
    "                i = ord(num[x]) - 48\n",
    "                if(i > 0):\n",
    "                    print(tens_multiple[i], end=\" \")\n",
    "                else:\n",
    "                    print(\"\", end=\"\")\n",
    "                x += 1\n",
    "                if(ord(num[x]) - 48 != 0):\n",
    "                    print(single_digits[ord(num[x]) - 48])\n",
    "        x += 1\n",
    "\n",
    "\n",
    "# Driver Code\n",
    "convert_to_words(\"1924\") \n",
    " "
   ]
  }
 ],
 "metadata": {
  "kernelspec": {
   "display_name": "Python 3",
   "language": "python",
   "name": "python3"
  },
  "language_info": {
   "codemirror_mode": {
    "name": "ipython",
    "version": 3
   },
   "file_extension": ".py",
   "mimetype": "text/x-python",
   "name": "python",
   "nbconvert_exporter": "python",
   "pygments_lexer": "ipython3",
   "version": "3.13.0"
  }
 },
 "nbformat": 4,
 "nbformat_minor": 5
}
