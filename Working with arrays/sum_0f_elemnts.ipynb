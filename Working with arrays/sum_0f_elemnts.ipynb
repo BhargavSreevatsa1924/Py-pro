{
 "cells": [
  {
   "cell_type": "code",
   "execution_count": 1,
   "id": "7c8b9a7f",
   "metadata": {},
   "outputs": [
    {
     "name": "stdout",
     "output_type": "stream",
     "text": [
      "256\n"
     ]
    }
   ],
   "source": [
    "# Method 1 - iteration\n",
    "arr = [10, 89, 9, 56, 4, 80, 8]\n",
    "Sum = 0\n",
    "\n",
    "for i in range(len(arr)):\n",
    "   Sum = Sum + arr[i]\n",
    "print (Sum)"
   ]
  },
  {
   "cell_type": "code",
   "execution_count": 2,
   "id": "4e771173",
   "metadata": {},
   "outputs": [
    {
     "name": "stdout",
     "output_type": "stream",
     "text": [
      "100\n"
     ]
    }
   ],
   "source": [
    "# using recursion method 2\n",
    "def getSum(arr, n):\n",
    "   if n == 0:\n",
    "     return 0\n",
    "   return arr[n-1] + getSum(arr, n-1)\n",
    "arr = [10, 20, 30, 40]\n",
    "print(getSum(arr, len(arr)))"
   ]
  }
 ],
 "metadata": {
  "kernelspec": {
   "display_name": "Python 3",
   "language": "python",
   "name": "python3"
  },
  "language_info": {
   "codemirror_mode": {
    "name": "ipython",
    "version": 3
   },
   "file_extension": ".py",
   "mimetype": "text/x-python",
   "name": "python",
   "nbconvert_exporter": "python",
   "pygments_lexer": "ipython3",
   "version": "3.13.0"
  }
 },
 "nbformat": 4,
 "nbformat_minor": 5
}
