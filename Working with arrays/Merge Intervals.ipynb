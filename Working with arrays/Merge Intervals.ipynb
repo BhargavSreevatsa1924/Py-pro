{
 "cells": [
  {
   "cell_type": "markdown",
   "id": "89cca883",
   "metadata": {},
   "source": [
    "Algorithm\n",
    "* Start\n",
    "*Sort the given array in Ascending order\n",
    "* Initialize a variable i with value zero\n",
    "* Run a loop while i less then l – 1 (length of array – 1)\n",
    "* For each iteration check if starting point or ending point of any two consecutive intervals is same then increment the value of i by 1, skip for this iteration with keyword (continue)\n",
    "* Initialize an empty array a\n",
    "* Use a for loop to iterate from arr[i][0] to 1 + arr[i+1][1] and for each iteration append it to a\n",
    "* Use  a for loop to iterate between arr[i][0] to 1 + arr[i+1][1] using variable n\n",
    "* If the variable n is in array a then initialize a list name new_pair having value minimum of arr[i][0] and arr[i+1][0] to index zero , maximum of arr[i][1] and arr[i+1][1] at index one\n",
    "* Assign the value of new_pair to arr[i] and arr[i+1] both\n",
    "* Set the value of i to zero and break the for loop\n",
    "* Increment the value of i by 1\n",
    "* Create a new array ans and append all the distinct element of arr to ans\n",
    "* Print ans"
   ]
  },
  {
   "cell_type": "code",
   "execution_count": 1,
   "id": "61d540b2",
   "metadata": {},
   "outputs": [
    {
     "name": "stdout",
     "output_type": "stream",
     "text": [
      "[[1, 6], [8, 10], [15, 20]]\n"
     ]
    }
   ],
   "source": [
    "def merge(arr, l):\n",
    "    arr.sort()\n",
    "    i = 0\n",
    "    while i < l - 1:\n",
    "        if arr[i][0] == arr[i + 1][0] and arr[i][1] == arr[i + 1][1]:\n",
    "            i += 1\n",
    "            continue\n",
    "        a = []\n",
    "        for n in range(arr[i][0], 1 + arr[i][1]):\n",
    "            a.append(n)\n",
    "        for n in range(arr[i + 1][0], 1 + arr[i + 1][1]):\n",
    "            if n in a:\n",
    "                new_pair = [min(arr[i][0], arr[i + 1][0]), max(arr[i][1], arr[i + 1][1])]\n",
    "                arr[i] = new_pair\n",
    "                arr[i + 1] = new_pair\n",
    "                i = 0\n",
    "                break\n",
    "        i += 1\n",
    "    ans = []\n",
    "    for i in arr:\n",
    "        if i not in ans:\n",
    "            ans.append(i)\n",
    "    return ans\n",
    "\n",
    "\n",
    "arr = [[1, 3], [2, 6], [8, 10], [15, 18], [18, 20]]\n",
    "l = len(arr)\n",
    "print(merge(arr, l))"
   ]
  }
 ],
 "metadata": {
  "kernelspec": {
   "display_name": "Python 3",
   "language": "python",
   "name": "python3"
  },
  "language_info": {
   "codemirror_mode": {
    "name": "ipython",
    "version": 3
   },
   "file_extension": ".py",
   "mimetype": "text/x-python",
   "name": "python",
   "nbconvert_exporter": "python",
   "pygments_lexer": "ipython3",
   "version": "3.13.0"
  }
 },
 "nbformat": 4,
 "nbformat_minor": 5
}
