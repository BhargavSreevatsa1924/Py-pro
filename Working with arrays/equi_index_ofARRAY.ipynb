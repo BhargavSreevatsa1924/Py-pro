{
 "cells": [
  {
   "cell_type": "code",
   "execution_count": 1,
   "id": "f054e755",
   "metadata": {},
   "outputs": [
    {
     "name": "stdout",
     "output_type": "stream",
     "text": [
      "Equilibrium index is  3\n"
     ]
    }
   ],
   "source": [
    "# using nested loop \n",
    "# Time Complexity : O(n2)\n",
    "# Space Complexity : O(1)\n",
    "\n",
    "def equilibrium(arr):\n",
    "    leftsum = 0\n",
    "    rightsum = 0\n",
    "    n = len(arr)\n",
    " \n",
    "    for i in range(n):\n",
    "        leftsum = 0\n",
    "        rightsum = 0\n",
    "     \n",
    "        for j in range(i):\n",
    "            leftsum += arr[j]\n",
    "         \n",
    "        for j in range(i + 1, n):\n",
    "            rightsum += arr[j]\n",
    "         \n",
    "        if leftsum == rightsum:\n",
    "            return i\n",
    "     \n",
    "    return -1\n",
    "     \n",
    "# Driver code\n",
    "arr = [-4, 1, 5, 2, -4, 4, 2]\n",
    "print ('Equilibrium index is ',equilibrium(arr))"
   ]
  },
  {
   "cell_type": "code",
   "execution_count": 2,
   "id": "a44cd9c1",
   "metadata": {},
   "outputs": [
    {
     "name": "stdout",
     "output_type": "stream",
     "text": [
      "Equilibrium index is  3\n"
     ]
    }
   ],
   "source": [
    "# Time Complexity : O(n)\n",
    "# Space Complexity : O(1)\n",
    "\n",
    "def equilibrium(arr):\n",
    " \n",
    "    total_sum = sum(arr)\n",
    "    leftsum = 0\n",
    "    for i, num in enumerate(arr):\n",
    "         \n",
    "        total_sum -= num\n",
    "         \n",
    "        if leftsum == total_sum:\n",
    "            return i\n",
    "        leftsum += num\n",
    "      \n",
    "    return -1\n",
    "     \n",
    "# Driver code\n",
    "arr = [-4, 1, 5, 2, -4, 4, 2]\n",
    "print ('Equilibrium index is ',equilibrium(arr))"
   ]
  },
  {
   "cell_type": "code",
   "execution_count": 3,
   "id": "67c2939d",
   "metadata": {},
   "outputs": [
    {
     "name": "stdout",
     "output_type": "stream",
     "text": [
      "EQUILIBRIUM INDEX OF AN ARRAY: \n",
      "2\n"
     ]
    }
   ],
   "source": [
    "# Time Complexity : O(n)\n",
    "# Space Complexity : O(1)\n",
    "# using inbuilt function\n",
    "\n",
    "a=[4, -2, 0, 6, -4]\n",
    "ans=-1\n",
    "for i in range(1,len(a)):\n",
    "    if sum(a[:i])==sum(a[i+1:]):\n",
    "        ans=i\n",
    "        break    \n",
    "print(\"EQUILIBRIUM INDEX OF AN ARRAY: \")\n",
    "print(ans)\n"
   ]
  }
 ],
 "metadata": {
  "kernelspec": {
   "display_name": "Python 3",
   "language": "python",
   "name": "python3"
  },
  "language_info": {
   "codemirror_mode": {
    "name": "ipython",
    "version": 3
   },
   "file_extension": ".py",
   "mimetype": "text/x-python",
   "name": "python",
   "nbconvert_exporter": "python",
   "pygments_lexer": "ipython3",
   "version": "3.13.0"
  }
 },
 "nbformat": 4,
 "nbformat_minor": 5
}
