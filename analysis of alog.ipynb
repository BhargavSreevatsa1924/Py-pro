{
 "cells": [
  {
   "cell_type": "markdown",
   "metadata": {},
   "source": [
    " big o notation means this is the max or exactly this \n",
    " it is used to find the max boundary\n",
    " for a function f(n) = O(g(n)) if and only if there exists constant c and n0(n not )\n",
    "such that f(n)<=Cg(n) for all n >= n0, n0 >=0"
   ]
  },
  {
   "cell_type": "markdown",
   "metadata": {},
   "source": [
    "Theta notation is for EXACT\n",
    "f(n)< theta(g(n)) if and only if there exist positive constant c1,c2,n0 such that 0<=c1g(n)<=f(n)<=g(n) for all n > n0"
   ]
  },
  {
   "cell_type": "markdown",
   "metadata": {},
   "source": [
    " Omega notation is for lower bound \n",
    " f(n) = omega(g(n)) if and if only there exist positive constant c and n0\n",
    "such that 0<=g(n)<=f(n) for n >=0 and n0>=0\n"
   ]
  }
 ],
 "metadata": {
  "kernelspec": {
   "display_name": "Python 3",
   "language": "python",
   "name": "python3"
  },
  "language_info": {
   "name": "python",
   "version": "3.13.0"
  }
 },
 "nbformat": 4,
 "nbformat_minor": 2
}
