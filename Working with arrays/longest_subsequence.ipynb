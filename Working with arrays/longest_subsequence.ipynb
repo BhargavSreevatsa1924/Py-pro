{
 "cells": [
  {
   "cell_type": "code",
   "execution_count": 1,
   "id": "c8acd75f",
   "metadata": {},
   "outputs": [
    {
     "name": "stdout",
     "output_type": "stream",
     "text": [
      "Longest Consecutive Subsequence : 3\n"
     ]
    }
   ],
   "source": [
    "def LongestConseqSubseq(arr, l):\n",
    "    val = []\n",
    "    c = 0\n",
    "    for i in range(l):\n",
    "        n = 1\n",
    "        while arr[i] + n in arr:\n",
    "            c += 1\n",
    "            n += 1\n",
    "        val.append(c + 1)\n",
    "        c = 0\n",
    "    return max(val)\n",
    "\n",
    "\n",
    "array = [7, 8, 1, 5, 4, 3]\n",
    "\n",
    "print(\"Longest Consecutive Subsequence :\", LongestConseqSubseq(array, len(array)))"
   ]
  }
 ],
 "metadata": {
  "kernelspec": {
   "display_name": "Python 3",
   "language": "python",
   "name": "python3"
  },
  "language_info": {
   "codemirror_mode": {
    "name": "ipython",
    "version": 3
   },
   "file_extension": ".py",
   "mimetype": "text/x-python",
   "name": "python",
   "nbconvert_exporter": "python",
   "pygments_lexer": "ipython3",
   "version": "3.13.0"
  }
 },
 "nbformat": 4,
 "nbformat_minor": 5
}
