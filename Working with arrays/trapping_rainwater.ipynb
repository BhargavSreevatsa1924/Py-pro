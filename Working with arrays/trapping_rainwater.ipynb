{
 "cells": [
  {
   "cell_type": "code",
   "execution_count": 1,
   "id": "e6186b9c",
   "metadata": {},
   "outputs": [
    {
     "name": "stdout",
     "output_type": "stream",
     "text": [
      "9\n"
     ]
    }
   ],
   "source": [
    "def rain(arr):\n",
    "    ans = 0\n",
    "    temp = 0\n",
    "    prev = 0\n",
    "    for i in range(len(arr)):\n",
    "        if arr[i] > prev and temp == 0:\n",
    "            prev = arr[i]\n",
    "        elif arr[i] >= prev:\n",
    "            ans += temp\n",
    "            prev = arr[i]\n",
    "            temp = 0\n",
    "        else:\n",
    "            if i != len(arr)-1 and arr[i] < max(arr[i+1:]):\n",
    "                temp += prev - arr[i]\n",
    "            else:\n",
    "                ans += arr[i]\n",
    "                temp = 0\n",
    "                prev = arr[i]\n",
    "    return ans\n",
    "\n",
    "\n",
    "arr = [2, 0, 3, 0, 2, 0, 4]\n",
    "print(rain(arr))"
   ]
  }
 ],
 "metadata": {
  "kernelspec": {
   "display_name": "Python 3",
   "language": "python",
   "name": "python3"
  },
  "language_info": {
   "codemirror_mode": {
    "name": "ipython",
    "version": 3
   },
   "file_extension": ".py",
   "mimetype": "text/x-python",
   "name": "python",
   "nbconvert_exporter": "python",
   "pygments_lexer": "ipython3",
   "version": "3.13.0"
  }
 },
 "nbformat": 4,
 "nbformat_minor": 5
}
