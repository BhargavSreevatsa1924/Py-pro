{
 "cells": [
  {
   "cell_type": "code",
   "execution_count": 1,
   "id": "3cc3b753",
   "metadata": {},
   "outputs": [
    {
     "name": "stdout",
     "output_type": "stream",
     "text": [
      "GCD of 36 and 60 is 12\n"
     ]
    }
   ],
   "source": [
    "# Method 1 : Linear Quest\n",
    "num1 = 36\n",
    "num2 = 60\n",
    "gcd = 1\n",
    "\n",
    "for i in range(1, min(num1, num2)):\n",
    "    if num1 % i == 0 and num2 % i == 0:\n",
    "        gcd = i\n",
    "print(\"GCD of\", num1, \"and\", num2, \"is\", gcd)"
   ]
  },
  {
   "cell_type": "code",
   "execution_count": 2,
   "id": "205ef0a7",
   "metadata": {},
   "outputs": [
    {
     "name": "stdout",
     "output_type": "stream",
     "text": [
      "GCD of 36 and 60 is 12\n"
     ]
    }
   ],
   "source": [
    "# Method 2 : Repeated Subtraction\n",
    "num1 = 36\n",
    "num2 = 60\n",
    "a = num1\n",
    "b = num2\n",
    "\n",
    "while num1 != num2:\n",
    "    if num1 > num2:\n",
    "        num1 -= num2\n",
    "    else:\n",
    "        num2 -= num1\n",
    "\n",
    "print(\"GCD of\", a, \"and\", b, \"is\", num1)"
   ]
  },
  {
   "cell_type": "code",
   "execution_count": 3,
   "id": "145acbec",
   "metadata": {},
   "outputs": [
    {
     "name": "stdout",
     "output_type": "stream",
     "text": [
      "GCD of 36 and 60 is 12\n"
     ]
    }
   ],
   "source": [
    "# Method 3 : Repeated Subtraction using Recursion\n",
    "# Recursive function to return GCD of two number\n",
    "def findGCD(num1, num2):\n",
    "    \n",
    "    # Everything divides 0\n",
    "    if num1 == 0 or num2 == 0:\n",
    "        return num1 + num2\n",
    "    \n",
    "    # base case\n",
    "    if num1 == num2:\n",
    "        return num1\n",
    "    \n",
    "    # num1>num2\n",
    "    if num1 > num2:\n",
    "        return findGCD(num1 - num2, num2)\n",
    "    else:\n",
    "        return findGCD(num1, num2 - num1)\n",
    "\n",
    "\n",
    "num1 = 36\n",
    "num2 = 60\n",
    "\n",
    "print(\"GCD of\", num1, \"and\", num2, \"is\", findGCD(num1, num2))"
   ]
  },
  {
   "cell_type": "code",
   "execution_count": 4,
   "id": "1a467350",
   "metadata": {},
   "outputs": [
    {
     "name": "stdout",
     "output_type": "stream",
     "text": [
      "GCD of 36 and 60 is 12\n"
     ]
    }
   ],
   "source": [
    "# Method 4 : Repeated Subtraction with Modulo Operator using Recursion\n",
    "# This method improves complexity of repeated subtraction\n",
    "# By efficient use of modulo operator in euclidean algorithm\n",
    "def getGCD(a, b):\n",
    "    return b == 0 and a or getGCD(b, a % b)\n",
    "\n",
    "\n",
    "num1 = 36\n",
    "num2 = 60\n",
    "\n",
    "print(\"GCD of\", num1, \"and\", num2, \"is\", getGCD(num1, num2))"
   ]
  },
  {
   "cell_type": "code",
   "execution_count": 5,
   "id": "6a08f46b",
   "metadata": {},
   "outputs": [
    {
     "name": "stdout",
     "output_type": "stream",
     "text": [
      "GCD of -36 and 60 is 12\n"
     ]
    }
   ],
   "source": [
    "# Method 5 : Handling Negative Numbers in GCD\n",
    "# This method improves complexity of repeated subtraction\n",
    "# By efficient use of modulo operator in Euclidean algorithm\n",
    "def getGCD(a, b):\n",
    "    return b == 0 and a or getGCD(b, a % b)\n",
    "\n",
    "\n",
    "num1 = -36\n",
    "num2 = 60\n",
    "\n",
    "# if user enters negative number, we just changing it to positive\n",
    "# By definition GCD is the highest positive number that divides both numbers\n",
    "# -36 & 60 : GCD = 12 (as highest num that divides both)\n",
    "# -36 & -60 : GCD = 12 (as highest num that divides both)\n",
    "num1 >= 0 and num1 or -num1\n",
    "num2 >= 0 and num2 or -num2\n",
    "\n",
    "print(\"GCD of\", num1, \"and\", num2, \"is\", getGCD(num1, num2))"
   ]
  }
 ],
 "metadata": {
  "kernelspec": {
   "display_name": "Python 3",
   "language": "python",
   "name": "python3"
  },
  "language_info": {
   "codemirror_mode": {
    "name": "ipython",
    "version": 3
   },
   "file_extension": ".py",
   "mimetype": "text/x-python",
   "name": "python",
   "nbconvert_exporter": "python",
   "pygments_lexer": "ipython3",
   "version": "3.13.0"
  }
 },
 "nbformat": 4,
 "nbformat_minor": 5
}
