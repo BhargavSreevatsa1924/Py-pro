{
 "cells": [
  {
   "cell_type": "code",
   "execution_count": 1,
   "id": "6e94cc9f",
   "metadata": {},
   "outputs": [
    {
     "name": "stdout",
     "output_type": "stream",
     "text": [
      "Total vowels are :2\n"
     ]
    }
   ],
   "source": [
    "# COunt VOwels\n",
    "#take user input\n",
    "String = input('Enter the string :')\n",
    "count = 0\n",
    "#to check for less conditions\n",
    "#keep string in lowercase\n",
    "String = String.lower()\n",
    "for i in String:\n",
    "    if i == 'a' or i == 'e' or i == 'i' or i == 'o' or i == 'u':\n",
    "        #if True\n",
    "        count+=1\n",
    "#check if any vowel found\n",
    "if count == 0:\n",
    "    print('No vowels found')\n",
    "else:\n",
    "    print('Total vowels are :' + str(count))"
   ]
  },
  {
   "cell_type": "code",
   "execution_count": 2,
   "id": "b7b56e4e",
   "metadata": {},
   "outputs": [
    {
     "name": "stdout",
     "output_type": "stream",
     "text": [
      "Total numbers of Vowel = 6\n"
     ]
    }
   ],
   "source": [
    "# Function to check the Vowel\n",
    "def isVowel(ch):\n",
    "    return ch.upper() in ['A', 'E', 'I', 'O', 'U']\n",
    "\n",
    "# to count total number of\n",
    "# vowel from 0 to n\n",
    "def countVovels(str, n):\n",
    "    if (n == 1):\n",
    "        return isVowel(str[n - 1]);\n",
    "    return (countVovels(str, n - 1) +\n",
    "                isVowel(str[n - 1]));\n",
    "# Driver Code\n",
    "\n",
    "# string object\n",
    "str = \"bhargav sreevatsa\";\n",
    "\n",
    "\n",
    "# Total numbers of Vowel\n",
    "print(\"Total numbers of Vowel =\",countVovels(str, len(str)))"
   ]
  },
  {
   "cell_type": "code",
   "execution_count": 3,
   "id": "c40b06d6",
   "metadata": {},
   "outputs": [
    {
     "name": "stdout",
     "output_type": "stream",
     "text": [
      "\n",
      "After removing Vowels:  bhrgv\n"
     ]
    }
   ],
   "source": [
    "# method 1 simple iteration\n",
    "string = \"bhargav\"\n",
    "\n",
    "vowels = ['a', 'e', 'i', 'o', 'u', 'A', 'E', 'I', 'O', 'U']\n",
    "result = \"\"\n",
    "\n",
    "for i in range(len(string)):\n",
    "    if string[i] not in vowels:\n",
    "        result = result + string[i]\n",
    "\n",
    "print(\"\\nAfter removing Vowels: \", result)"
   ]
  },
  {
   "cell_type": "code",
   "execution_count": null,
   "id": "ab4e922f",
   "metadata": {},
   "outputs": [
    {
     "name": "stdout",
     "output_type": "stream",
     "text": [
      "\n",
      "After removing Vowels:  bhrgvsrvts\n"
     ]
    }
   ],
   "source": [
    "# method 2 of iterative \n",
    "string = \"bhargavsreevatsa\"\n",
    "\n",
    "vowels = ['a', 'e', 'i', 'o', 'u', 'A', 'E', 'I', 'O', 'U']\n",
    "result = \"\"\n",
    "\n",
    "for char in string:\n",
    "    if char not in vowels:\n",
    "        result = result + char\n",
    "\n",
    "print(\"\\nAfter removing Vowels: \", result)"
   ]
  },
  {
   "cell_type": "code",
   "execution_count": 6,
   "id": "52a643fa",
   "metadata": {},
   "outputs": [
    {
     "name": "stdout",
     "output_type": "stream",
     "text": [
      "bhargav\n",
      "bhrgv\n"
     ]
    }
   ],
   "source": [
    "def remove_vowel(string):\n",
    "    vowels = ['a','e','i','o','u']\n",
    "    \n",
    "    # result will become : ['P', 'r', 'p', 'n', 's', 't'] after below step\n",
    "    result = [letter for letter in string if letter.lower() not in vowels]\n",
    "    \n",
    "    # result will become Prpnst, i.e. we joined strings in this\n",
    "    result = ''.join(result)\n",
    "    print(result)\n",
    " \n",
    "# Driver program\n",
    "string = \"bhargav\"\n",
    "print(string)\n",
    "remove_vowel(string)"
   ]
  },
  {
   "cell_type": "code",
   "execution_count": null,
   "id": "eaef255d",
   "metadata": {},
   "outputs": [
    {
     "name": "stdout",
     "output_type": "stream",
     "text": [
      "bhrgv\n"
     ]
    },
    {
     "ename": "",
     "evalue": "",
     "output_type": "error",
     "traceback": [
      "\u001b[1;31mThe Kernel crashed while executing code in the current cell or a previous cell. \n",
      "\u001b[1;31mPlease review the code in the cell(s) to identify a possible cause of the failure. \n",
      "\u001b[1;31mClick <a href='https://aka.ms/vscodeJupyterKernelCrash'>here</a> for more info. \n",
      "\u001b[1;31mView Jupyter <a href='command:jupyter.viewOutput'>log</a> for further details."
     ]
    }
   ],
   "source": [
    "# regex\n",
    "# import the module for regular expression (re)\n",
    "import re\n",
    "def rem_vowel(string):\n",
    "    return (re.sub(\"[aeiouAEIOU]\",\"\",string))           \n",
    "\n",
    "# Driver program\n",
    "string = \"bhargav\"\n",
    "print(rem_vowel(string))"
   ]
  }
 ],
 "metadata": {
  "kernelspec": {
   "display_name": "Python 3",
   "language": "python",
   "name": "python3"
  },
  "language_info": {
   "codemirror_mode": {
    "name": "ipython",
    "version": 3
   },
   "file_extension": ".py",
   "mimetype": "text/x-python",
   "name": "python",
   "nbconvert_exporter": "python",
   "pygments_lexer": "ipython3",
   "version": "3.13.0"
  }
 },
 "nbformat": 4,
 "nbformat_minor": 5
}
