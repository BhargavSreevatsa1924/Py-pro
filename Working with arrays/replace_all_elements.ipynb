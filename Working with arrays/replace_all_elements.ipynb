{
 "cells": [
  {
   "cell_type": "code",
   "execution_count": 1,
   "id": "22a4893e",
   "metadata": {},
   "outputs": [
    {
     "name": "stdout",
     "output_type": "stream",
     "text": [
      "[5, 1, 3, 2, 4]\n"
     ]
    }
   ],
   "source": [
    "# replace elements by their rank\n",
    "# naive way\n",
    "\n",
    "def changeArr(input1):\n",
    " \n",
    "    newArray = input1.copy()\n",
    "    newArray.sort()\n",
    "     \n",
    "    for i in range(len(input1)):\n",
    "        for j in range(len(newArray)):\n",
    "            if input1[i]==newArray[j]:\n",
    "                input1[i] = j+1;\n",
    "                break;\n",
    "    \n",
    "# Driver Code\n",
    "arr = [100, 2, 70, 12 , 90]\n",
    "changeArr(arr)\n",
    "# Print the array elements\n",
    "print(arr)"
   ]
  },
  {
   "cell_type": "code",
   "execution_count": 2,
   "id": "6b0687e6",
   "metadata": {},
   "outputs": [
    {
     "name": "stdout",
     "output_type": "stream",
     "text": [
      "[5, 1, 3, 2, 4]\n"
     ]
    }
   ],
   "source": [
    "# HASH MAP\n",
    "\n",
    "def changeArr(input1):\n",
    " \n",
    "    newArray = input1.copy()\n",
    "    newArray.sort()\n",
    "    ranks = {}\n",
    "    rank = 1\n",
    "     \n",
    "    for index in range(len(newArray)):\n",
    "        element = newArray[index];\n",
    "        if element not in ranks:\n",
    "            ranks[element] = rank\n",
    "            rank += 1\n",
    "         \n",
    "    for index in range(len(input1)):\n",
    "        element = input1[index]\n",
    "        input1[index] = ranks[input1[index]]\n",
    " \n",
    "# Driver Code\n",
    "arr = [100, 2, 70, 12 , 90]\n",
    "changeArr(arr)\n",
    "# Print the array elements\n",
    "print(arr)"
   ]
  }
 ],
 "metadata": {
  "kernelspec": {
   "display_name": "Python 3",
   "language": "python",
   "name": "python3"
  },
  "language_info": {
   "codemirror_mode": {
    "name": "ipython",
    "version": 3
   },
   "file_extension": ".py",
   "mimetype": "text/x-python",
   "name": "python",
   "nbconvert_exporter": "python",
   "pygments_lexer": "ipython3",
   "version": "3.13.0"
  }
 },
 "nbformat": 4,
 "nbformat_minor": 5
}
