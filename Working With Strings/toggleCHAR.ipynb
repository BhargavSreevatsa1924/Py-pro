{
 "cells": [
  {
   "cell_type": "code",
   "execution_count": 1,
   "id": "2a00548d",
   "metadata": {},
   "outputs": [
    {
     "name": "stdout",
     "output_type": "stream",
     "text": [
      "GuDDuBHaiyA after changing gUddUbhAIYa\n"
     ]
    }
   ],
   "source": [
    "#take user input\n",
    "String = 'GuDDuBHaiyA'\n",
    "#initialize other empty String\n",
    "String1 = str()\n",
    "#iterate through String\n",
    "for i in String:\n",
    "    #check the case of each iterator\n",
    "    if i.isupper():\n",
    "        #change it to opposit case\n",
    "        i = i.lower()\n",
    "        #Concat each iterator to String1\n",
    "        String1 = String1 + i\n",
    "    else:\n",
    "        i = i.upper()\n",
    "        String1 = String1 + i\n",
    "#print String1\n",
    "print(String + ' after changing ' + String1)"
   ]
  },
  {
   "cell_type": "code",
   "execution_count": null,
   "id": "10f06d8a",
   "metadata": {},
   "outputs": [
    {
     "name": "stdout",
     "output_type": "stream",
     "text": [
      "String after the characters are toggled :  rOOT\n"
     ]
    },
    {
     "ename": "",
     "evalue": "",
     "output_type": "error",
     "traceback": [
      "\u001b[1;31mThe Kernel crashed while executing code in the current cell or a previous cell. \n",
      "\u001b[1;31mPlease review the code in the cell(s) to identify a possible cause of the failure. \n",
      "\u001b[1;31mClick <a href='https://aka.ms/vscodeJupyterKernelCrash'>here</a> for more info. \n",
      "\u001b[1;31mView Jupyter <a href='command:jupyter.viewOutput'>log</a> for further details."
     ]
    }
   ],
   "source": [
    "#built in fucntion\n",
    " # Python program to toggle each character in a string\n",
    "\n",
    "str = 'Root'\n",
    "print(\"String after the characters are toggled : \",str.swapcase())"
   ]
  }
 ],
 "metadata": {
  "kernelspec": {
   "display_name": "Python 3",
   "language": "python",
   "name": "python3"
  },
  "language_info": {
   "codemirror_mode": {
    "name": "ipython",
    "version": 3
   },
   "file_extension": ".py",
   "mimetype": "text/x-python",
   "name": "python",
   "nbconvert_exporter": "python",
   "pygments_lexer": "ipython3",
   "version": "3.13.0"
  }
 },
 "nbformat": 4,
 "nbformat_minor": 5
}
