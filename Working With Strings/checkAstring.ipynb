{
 "cells": [
  {
   "cell_type": "code",
   "execution_count": 1,
   "id": "41f08efc",
   "metadata": {},
   "outputs": [
    {
     "name": "stdout",
     "output_type": "stream",
     "text": [
      "f is a consonant\n"
     ]
    }
   ],
   "source": [
    "# single function for both uppercase and lowercase\n",
    "def isVowel(c):\n",
    "    # converts to uppercase if it wasn't already\n",
    "    c=c.upper()\n",
    "    # returns true if char matches any of below\n",
    "    return c == 'A' or c == 'E' or c == 'I' or c == 'O' or c == 'U'\n",
    "\n",
    "\n",
    "c = 'f'\n",
    "\n",
    "# show error message if c is not an alphabet\n",
    "if not c.isalpha():\n",
    "    print(\"Non alphabet\")\n",
    "elif isVowel(c):\n",
    "    print(c, \"is a Vowel\")\n",
    "else:\n",
    "    print(c, \"is a consonant\")"
   ]
  },
  {
   "cell_type": "code",
   "execution_count": null,
   "id": "07f1018e",
   "metadata": {},
   "outputs": [
    {
     "name": "stdout",
     "output_type": "stream",
     "text": [
      "The  character z is an Alphabet\n"
     ]
    },
    {
     "ename": "",
     "evalue": "",
     "output_type": "error",
     "traceback": [
      "\u001b[1;31mThe Kernel crashed while executing code in the current cell or a previous cell. \n",
      "\u001b[1;31mPlease review the code in the cell(s) to identify a possible cause of the failure. \n",
      "\u001b[1;31mClick <a href='https://aka.ms/vscodeJupyterKernelCrash'>here</a> for more info. \n",
      "\u001b[1;31mView Jupyter <a href='command:jupyter.viewOutput'>log</a> for further details."
     ]
    }
   ],
   "source": [
    "# Python Program to find character is alphabet or not\n",
    "\n",
    "# user input\n",
    "ch = 'z'\n",
    "\n",
    "# basic logic\n",
    "if 'a' <= ch <= 'z' or 'A' <= ch <= 'Z':\n",
    "    print(\"The  character\", ch, \"is an Alphabet\")\n",
    "else:\n",
    "    print(\"The  character\", ch, \"is not an Alphabet\")"
   ]
  }
 ],
 "metadata": {
  "kernelspec": {
   "display_name": "Python 3",
   "language": "python",
   "name": "python3"
  },
  "language_info": {
   "codemirror_mode": {
    "name": "ipython",
    "version": 3
   },
   "file_extension": ".py",
   "mimetype": "text/x-python",
   "name": "python",
   "nbconvert_exporter": "python",
   "pygments_lexer": "ipython3",
   "version": "3.13.0"
  }
 },
 "nbformat": 4,
 "nbformat_minor": 5
}
