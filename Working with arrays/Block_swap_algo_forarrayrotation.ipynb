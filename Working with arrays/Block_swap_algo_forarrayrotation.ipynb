{
 "cells": [
  {
   "cell_type": "code",
   "execution_count": 1,
   "id": "463103f7",
   "metadata": {},
   "outputs": [
    {
     "name": "stdout",
     "output_type": "stream",
     "text": [
      "30 40 50 60 70 10 20 "
     ]
    }
   ],
   "source": [
    "#Write a program for block swap algorithm in Python\n",
    "\n",
    "def leftRotate(arr, d, n):\n",
    "    if(d == 0 or d == n):\n",
    "        return;\n",
    "    i = d\n",
    "    j = n - d\n",
    "    while (i != j):\n",
    "        if(i < j):\n",
    "            swap(arr, d - i, d + j - i, i)\n",
    "            j -= i\n",
    "        else:\n",
    "            swap(arr, d - i, d, j)\n",
    "            i -= j\n",
    "    swap(arr, d - i, d, i)\n",
    "\n",
    " \n",
    "def swap(arr, fi, si, d):\n",
    "    for i in range(d):\n",
    "        temp = arr[fi + i];\n",
    "        arr[fi + i] = arr[si + i];\n",
    "        arr[si + i] = temp;\n",
    " \n",
    "# Driver Code\n",
    "arr = [10, 20, 30, 40, 50, 60, 70]\n",
    "leftRotate(arr, 2, 7)\n",
    "\n",
    "for i in range(7):\n",
    "    print(arr[i], end = \" \")"
   ]
  }
 ],
 "metadata": {
  "kernelspec": {
   "display_name": "Python 3",
   "language": "python",
   "name": "python3"
  },
  "language_info": {
   "codemirror_mode": {
    "name": "ipython",
    "version": 3
   },
   "file_extension": ".py",
   "mimetype": "text/x-python",
   "name": "python",
   "nbconvert_exporter": "python",
   "pygments_lexer": "ipython3",
   "version": "3.13.0"
  }
 },
 "nbformat": 4,
 "nbformat_minor": 5
}
