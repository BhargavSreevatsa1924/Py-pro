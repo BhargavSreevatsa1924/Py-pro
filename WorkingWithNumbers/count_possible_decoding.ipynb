{
 "cells": [
  {
   "cell_type": "markdown",
   "id": "5ee2470b",
   "metadata": {},
   "source": [
    "Algorithm\n",
    "* Initialize a array cnt of size 1 + length of input and store 1 at 0 & 1 position\n",
    "* Iterate from 2 to a using variable k\n",
    "* If the last digit not equal to 0, then last digit must added to the number of words if (dig[k-1] > ‘0’)\n",
    "* In case second last digit is smaller than 2 and last digit is smaller than 7, then last two digits form a valid character\n",
    "* Print cnt[a]"
   ]
  },
  {
   "cell_type": "code",
   "execution_count": 1,
   "id": "28862a44",
   "metadata": {},
   "outputs": [
    {
     "name": "stdout",
     "output_type": "stream",
     "text": [
      "Possible count of decoding of the sequence : 2\n"
     ]
    }
   ],
   "source": [
    "def cnt_decoding_digits(dig, a):\n",
    "    cnt = [0] * (a + 1)\n",
    "    cnt[0], cnt[1] = 1, 1\n",
    "\n",
    "    for k in range(2, a + 1):\n",
    "        cnt[k] = 0\n",
    "        cnt[k] = cnt[k - 1]\n",
    "\n",
    "        if dig[k - 2] == '1' or (dig[k - 2] == '2' and dig[k - 1] < '7'):\n",
    "            cnt[k] += cnt[k - 2]\n",
    "\n",
    "    return cnt[a]\n",
    "\n",
    "\n",
    "dig = input(\"Enter Number : \")\n",
    "print(\"Possible count of decoding of the sequence :\", cnt_decoding_digits(dig, len(dig)))"
   ]
  }
 ],
 "metadata": {
  "kernelspec": {
   "display_name": "Python 3",
   "language": "python",
   "name": "python3"
  },
  "language_info": {
   "codemirror_mode": {
    "name": "ipython",
    "version": 3
   },
   "file_extension": ".py",
   "mimetype": "text/x-python",
   "name": "python",
   "nbconvert_exporter": "python",
   "pygments_lexer": "ipython3",
   "version": "3.13.0"
  }
 },
 "nbformat": 4,
 "nbformat_minor": 5
}
